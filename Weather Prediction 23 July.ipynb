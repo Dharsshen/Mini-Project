{
 "cells": [
  {
   "cell_type": "markdown",
   "metadata": {},
   "source": [
    "# Weather Prediction"
   ]
  },
  {
   "cell_type": "markdown",
   "metadata": {},
   "source": [
    "<font size=\"+2\" style=\"color:Blue\">Step 1: Load Data</font>"
   ]
  },
  {
   "cell_type": "code",
   "execution_count": 187,
   "metadata": {
    "collapsed": true
   },
   "outputs": [],
   "source": [
    "kl_w=read.csv('kl.csv')"
   ]
  },
  {
   "cell_type": "code",
   "execution_count": 188,
   "metadata": {},
   "outputs": [],
   "source": [
    "library(xts)\n",
    "library(forecast)\n",
    "library(ggplot2)\n",
    "library(lubridate)"
   ]
  },
  {
   "cell_type": "markdown",
   "metadata": {},
   "source": [
    "<font size=\"+2\" style=\"color:Blue\">Step 2: Analyze the Data</font>\n"
   ]
  },
  {
   "cell_type": "code",
   "execution_count": 189,
   "metadata": {},
   "outputs": [
    {
     "data": {
      "text/html": [
       "<span style=white-space:pre-wrap>'Number of columns is  25'</span>"
      ],
      "text/latex": [
       "'Number of columns is  25'"
      ],
      "text/markdown": [
       "<span style=white-space:pre-wrap>'Number of columns is  25'</span>"
      ],
      "text/plain": [
       "[1] \"Number of columns is  25\""
      ]
     },
     "metadata": {},
     "output_type": "display_data"
    },
    {
     "data": {
      "text/html": [
       "'============================'"
      ],
      "text/latex": [
       "'============================'"
      ],
      "text/markdown": [
       "'============================'"
      ],
      "text/plain": [
       "[1] \"============================\""
      ]
     },
     "metadata": {},
     "output_type": "display_data"
    },
    {
     "data": {
      "text/html": [
       "<ol class=list-inline>\n",
       "\t<li>'X'</li>\n",
       "\t<li>'city'</li>\n",
       "\t<li>'date'</li>\n",
       "\t<li>'time'</li>\n",
       "\t<li>'tempC'</li>\n",
       "\t<li>'tempF'</li>\n",
       "\t<li>'windspeedMiles'</li>\n",
       "\t<li>'windspeedKmph'</li>\n",
       "\t<li>'winddirDegree'</li>\n",
       "\t<li>'winddir16Point'</li>\n",
       "\t<li>'weatherCode'</li>\n",
       "\t<li>'weatherDescValue'</li>\n",
       "\t<li>'precipMM'</li>\n",
       "\t<li>'humidity'</li>\n",
       "\t<li>'visibility'</li>\n",
       "\t<li>'pressure'</li>\n",
       "\t<li>'cloudcover'</li>\n",
       "\t<li>'HeatIndexC'</li>\n",
       "\t<li>'HeatIndexF'</li>\n",
       "\t<li>'WindChillC'</li>\n",
       "\t<li>'WindChillF'</li>\n",
       "\t<li>'WindGustKmph'</li>\n",
       "\t<li>'WindGustMiles'</li>\n",
       "\t<li>'FeelsLikeC'</li>\n",
       "\t<li>'FeelsLikeF'</li>\n",
       "</ol>\n"
      ],
      "text/latex": [
       "\\begin{enumerate*}\n",
       "\\item 'X'\n",
       "\\item 'city'\n",
       "\\item 'date'\n",
       "\\item 'time'\n",
       "\\item 'tempC'\n",
       "\\item 'tempF'\n",
       "\\item 'windspeedMiles'\n",
       "\\item 'windspeedKmph'\n",
       "\\item 'winddirDegree'\n",
       "\\item 'winddir16Point'\n",
       "\\item 'weatherCode'\n",
       "\\item 'weatherDescValue'\n",
       "\\item 'precipMM'\n",
       "\\item 'humidity'\n",
       "\\item 'visibility'\n",
       "\\item 'pressure'\n",
       "\\item 'cloudcover'\n",
       "\\item 'HeatIndexC'\n",
       "\\item 'HeatIndexF'\n",
       "\\item 'WindChillC'\n",
       "\\item 'WindChillF'\n",
       "\\item 'WindGustKmph'\n",
       "\\item 'WindGustMiles'\n",
       "\\item 'FeelsLikeC'\n",
       "\\item 'FeelsLikeF'\n",
       "\\end{enumerate*}\n"
      ],
      "text/markdown": [
       "1. 'X'\n",
       "2. 'city'\n",
       "3. 'date'\n",
       "4. 'time'\n",
       "5. 'tempC'\n",
       "6. 'tempF'\n",
       "7. 'windspeedMiles'\n",
       "8. 'windspeedKmph'\n",
       "9. 'winddirDegree'\n",
       "10. 'winddir16Point'\n",
       "11. 'weatherCode'\n",
       "12. 'weatherDescValue'\n",
       "13. 'precipMM'\n",
       "14. 'humidity'\n",
       "15. 'visibility'\n",
       "16. 'pressure'\n",
       "17. 'cloudcover'\n",
       "18. 'HeatIndexC'\n",
       "19. 'HeatIndexF'\n",
       "20. 'WindChillC'\n",
       "21. 'WindChillF'\n",
       "22. 'WindGustKmph'\n",
       "23. 'WindGustMiles'\n",
       "24. 'FeelsLikeC'\n",
       "25. 'FeelsLikeF'\n",
       "\n",
       "\n"
      ],
      "text/plain": [
       " [1] \"X\"                \"city\"             \"date\"             \"time\"            \n",
       " [5] \"tempC\"            \"tempF\"            \"windspeedMiles\"   \"windspeedKmph\"   \n",
       " [9] \"winddirDegree\"    \"winddir16Point\"   \"weatherCode\"      \"weatherDescValue\"\n",
       "[13] \"precipMM\"         \"humidity\"         \"visibility\"       \"pressure\"        \n",
       "[17] \"cloudcover\"       \"HeatIndexC\"       \"HeatIndexF\"       \"WindChillC\"      \n",
       "[21] \"WindChillF\"       \"WindGustKmph\"     \"WindGustMiles\"    \"FeelsLikeC\"      \n",
       "[25] \"FeelsLikeF\"      "
      ]
     },
     "metadata": {},
     "output_type": "display_data"
    },
    {
     "data": {
      "text/html": [
       "'============================'"
      ],
      "text/latex": [
       "'============================'"
      ],
      "text/markdown": [
       "'============================'"
      ],
      "text/plain": [
       "[1] \"============================\""
      ]
     },
     "metadata": {},
     "output_type": "display_data"
    },
    {
     "data": {
      "text/html": [
       "<span style=white-space:pre-wrap>'Number of rows is  70080'</span>"
      ],
      "text/latex": [
       "'Number of rows is  70080'"
      ],
      "text/markdown": [
       "<span style=white-space:pre-wrap>'Number of rows is  70080'</span>"
      ],
      "text/plain": [
       "[1] \"Number of rows is  70080\""
      ]
     },
     "metadata": {},
     "output_type": "display_data"
    }
   ],
   "source": [
    "paste(\"Number of columns is \",ncol(kl_w))\n",
    "'============================'\n",
    "colnames(kl_w)\n",
    "'============================'\n",
    "paste(\"Number of rows is \",nrow(kl_w))"
   ]
  },
  {
   "cell_type": "markdown",
   "metadata": {},
   "source": [
    "<font size=\"+1\" style=\"color:Purple\">Determine if the data set has any null values</font>"
   ]
  },
  {
   "cell_type": "code",
   "execution_count": 190,
   "metadata": {
    "collapsed": true
   },
   "outputs": [],
   "source": [
    "missValCount <- function(data){\n",
    "    \n",
    "    #Make structure of NA analysis data frame\n",
    "    na_analysis = data.frame()\n",
    "    \n",
    "    #Finding required statistics of numeric columns \n",
    "    for(col in names(data)){\n",
    "        num_miss = nrow(data[is.na(data[[col]]),])\n",
    "        tmp_df = data.frame(col_name = col, count = num_miss)\n",
    "        na_analysis = rbind(na_analysis, tmp_df)\n",
    "    }\n",
    "    print(na_analysis)\n",
    "}"
   ]
  },
  {
   "cell_type": "code",
   "execution_count": 191,
   "metadata": {
    "scrolled": true
   },
   "outputs": [
    {
     "name": "stdout",
     "output_type": "stream",
     "text": [
      "           col_name count\n",
      "1                 X     0\n",
      "2              city     0\n",
      "3              date     0\n",
      "4              time     0\n",
      "5             tempC     0\n",
      "6             tempF     0\n",
      "7    windspeedMiles     0\n",
      "8     windspeedKmph     0\n",
      "9     winddirDegree     0\n",
      "10   winddir16Point     0\n",
      "11      weatherCode     0\n",
      "12 weatherDescValue     0\n",
      "13         precipMM     0\n",
      "14         humidity     0\n",
      "15       visibility     0\n",
      "16         pressure     0\n",
      "17       cloudcover     0\n",
      "18       HeatIndexC     0\n",
      "19       HeatIndexF     0\n",
      "20       WindChillC     0\n",
      "21       WindChillF     0\n",
      "22     WindGustKmph     0\n",
      "23    WindGustMiles     0\n",
      "24       FeelsLikeC     0\n",
      "25       FeelsLikeF     0\n"
     ]
    }
   ],
   "source": [
    "missValCount(kl_w)"
   ]
  },
  {
   "cell_type": "code",
   "execution_count": 194,
   "metadata": {
    "scrolled": false
   },
   "outputs": [
    {
     "data": {
      "text/html": [
       "<table>\n",
       "<thead><tr><th scope=col>X</th><th scope=col>city</th><th scope=col>date</th><th scope=col>time</th><th scope=col>tempC</th><th scope=col>tempF</th><th scope=col>windspeedMiles</th><th scope=col>windspeedKmph</th><th scope=col>winddirDegree</th><th scope=col>winddir16Point</th><th scope=col>⋯</th><th scope=col>pressure</th><th scope=col>cloudcover</th><th scope=col>HeatIndexC</th><th scope=col>HeatIndexF</th><th scope=col>WindChillC</th><th scope=col>WindChillF</th><th scope=col>WindGustKmph</th><th scope=col>WindGustMiles</th><th scope=col>FeelsLikeC</th><th scope=col>FeelsLikeF</th></tr></thead>\n",
       "<tbody>\n",
       "\t<tr><td>2                     </td><td>Kuala Lumpur, Malaysia</td><td>2009-01-01            </td><td>  0                   </td><td>24                    </td><td>75                    </td><td>3                     </td><td>5                     </td><td>337                   </td><td>NNW                   </td><td>⋯                     </td><td>1009                  </td><td>71                    </td><td>26                    </td><td>80                    </td><td>24                    </td><td>75                    </td><td>9                     </td><td>6                     </td><td>26                    </td><td>80                    </td></tr>\n",
       "\t<tr><td>3                     </td><td>Kuala Lumpur, Malaysia</td><td>2009-01-01            </td><td>100                   </td><td>24                    </td><td>74                    </td><td>3                     </td><td>5                     </td><td>338                   </td><td>NNW                   </td><td>⋯                     </td><td>1009                  </td><td>60                    </td><td>26                    </td><td>79                    </td><td>24                    </td><td>74                    </td><td>9                     </td><td>6                     </td><td>26                    </td><td>79                    </td></tr>\n",
       "\t<tr><td>4                     </td><td>Kuala Lumpur, Malaysia</td><td>2009-01-01            </td><td>200                   </td><td>23                    </td><td>74                    </td><td>3                     </td><td>5                     </td><td>340                   </td><td>NNW                   </td><td>⋯                     </td><td>1009                  </td><td>49                    </td><td>26                    </td><td>79                    </td><td>23                    </td><td>74                    </td><td>9                     </td><td>6                     </td><td>26                    </td><td>79                    </td></tr>\n",
       "\t<tr><td>5                     </td><td>Kuala Lumpur, Malaysia</td><td>2009-01-01            </td><td>300                   </td><td>23                    </td><td>74                    </td><td>3                     </td><td>5                     </td><td>341                   </td><td>NNW                   </td><td>⋯                     </td><td>1008                  </td><td>38                    </td><td>26                    </td><td>78                    </td><td>23                    </td><td>74                    </td><td>9                     </td><td>6                     </td><td>26                    </td><td>78                    </td></tr>\n",
       "\t<tr><td>6                     </td><td>Kuala Lumpur, Malaysia</td><td>2009-01-01            </td><td>400                   </td><td>23                    </td><td>74                    </td><td>3                     </td><td>4                     </td><td>340                   </td><td>NNW                   </td><td>⋯                     </td><td>1008                  </td><td>39                    </td><td>26                    </td><td>78                    </td><td>23                    </td><td>74                    </td><td>9                     </td><td>5                     </td><td>26                    </td><td>78                    </td></tr>\n",
       "\t<tr><td>7                     </td><td>Kuala Lumpur, Malaysia</td><td>2009-01-01            </td><td>500                   </td><td>23                    </td><td>73                    </td><td>3                     </td><td>4                     </td><td>339                   </td><td>NNW                   </td><td>⋯                     </td><td>1008                  </td><td>40                    </td><td>25                    </td><td>78                    </td><td>23                    </td><td>73                    </td><td>8                     </td><td>5                     </td><td>25                    </td><td>78                    </td></tr>\n",
       "</tbody>\n",
       "</table>\n"
      ],
      "text/latex": [
       "\\begin{tabular}{r|lllllllllllllllllllllllll}\n",
       " X & city & date & time & tempC & tempF & windspeedMiles & windspeedKmph & winddirDegree & winddir16Point & ⋯ & pressure & cloudcover & HeatIndexC & HeatIndexF & WindChillC & WindChillF & WindGustKmph & WindGustMiles & FeelsLikeC & FeelsLikeF\\\\\n",
       "\\hline\n",
       "\t 2                      & Kuala Lumpur, Malaysia & 2009-01-01             &   0                    & 24                     & 75                     & 3                      & 5                      & 337                    & NNW                    & ⋯                      & 1009                   & 71                     & 26                     & 80                     & 24                     & 75                     & 9                      & 6                      & 26                     & 80                    \\\\\n",
       "\t 3                      & Kuala Lumpur, Malaysia & 2009-01-01             & 100                    & 24                     & 74                     & 3                      & 5                      & 338                    & NNW                    & ⋯                      & 1009                   & 60                     & 26                     & 79                     & 24                     & 74                     & 9                      & 6                      & 26                     & 79                    \\\\\n",
       "\t 4                      & Kuala Lumpur, Malaysia & 2009-01-01             & 200                    & 23                     & 74                     & 3                      & 5                      & 340                    & NNW                    & ⋯                      & 1009                   & 49                     & 26                     & 79                     & 23                     & 74                     & 9                      & 6                      & 26                     & 79                    \\\\\n",
       "\t 5                      & Kuala Lumpur, Malaysia & 2009-01-01             & 300                    & 23                     & 74                     & 3                      & 5                      & 341                    & NNW                    & ⋯                      & 1008                   & 38                     & 26                     & 78                     & 23                     & 74                     & 9                      & 6                      & 26                     & 78                    \\\\\n",
       "\t 6                      & Kuala Lumpur, Malaysia & 2009-01-01             & 400                    & 23                     & 74                     & 3                      & 4                      & 340                    & NNW                    & ⋯                      & 1008                   & 39                     & 26                     & 78                     & 23                     & 74                     & 9                      & 5                      & 26                     & 78                    \\\\\n",
       "\t 7                      & Kuala Lumpur, Malaysia & 2009-01-01             & 500                    & 23                     & 73                     & 3                      & 4                      & 339                    & NNW                    & ⋯                      & 1008                   & 40                     & 25                     & 78                     & 23                     & 73                     & 8                      & 5                      & 25                     & 78                    \\\\\n",
       "\\end{tabular}\n"
      ],
      "text/markdown": [
       "\n",
       "X | city | date | time | tempC | tempF | windspeedMiles | windspeedKmph | winddirDegree | winddir16Point | ⋯ | pressure | cloudcover | HeatIndexC | HeatIndexF | WindChillC | WindChillF | WindGustKmph | WindGustMiles | FeelsLikeC | FeelsLikeF | \n",
       "|---|---|---|---|---|---|\n",
       "| 2                      | Kuala Lumpur, Malaysia | 2009-01-01             |   0                    | 24                     | 75                     | 3                      | 5                      | 337                    | NNW                    | ⋯                      | 1009                   | 71                     | 26                     | 80                     | 24                     | 75                     | 9                      | 6                      | 26                     | 80                     | \n",
       "| 3                      | Kuala Lumpur, Malaysia | 2009-01-01             | 100                    | 24                     | 74                     | 3                      | 5                      | 338                    | NNW                    | ⋯                      | 1009                   | 60                     | 26                     | 79                     | 24                     | 74                     | 9                      | 6                      | 26                     | 79                     | \n",
       "| 4                      | Kuala Lumpur, Malaysia | 2009-01-01             | 200                    | 23                     | 74                     | 3                      | 5                      | 340                    | NNW                    | ⋯                      | 1009                   | 49                     | 26                     | 79                     | 23                     | 74                     | 9                      | 6                      | 26                     | 79                     | \n",
       "| 5                      | Kuala Lumpur, Malaysia | 2009-01-01             | 300                    | 23                     | 74                     | 3                      | 5                      | 341                    | NNW                    | ⋯                      | 1008                   | 38                     | 26                     | 78                     | 23                     | 74                     | 9                      | 6                      | 26                     | 78                     | \n",
       "| 6                      | Kuala Lumpur, Malaysia | 2009-01-01             | 400                    | 23                     | 74                     | 3                      | 4                      | 340                    | NNW                    | ⋯                      | 1008                   | 39                     | 26                     | 78                     | 23                     | 74                     | 9                      | 5                      | 26                     | 78                     | \n",
       "| 7                      | Kuala Lumpur, Malaysia | 2009-01-01             | 500                    | 23                     | 73                     | 3                      | 4                      | 339                    | NNW                    | ⋯                      | 1008                   | 40                     | 25                     | 78                     | 23                     | 73                     | 8                      | 5                      | 25                     | 78                     | \n",
       "\n",
       "\n"
      ],
      "text/plain": [
       "  X city                   date       time tempC tempF windspeedMiles\n",
       "1 2 Kuala Lumpur, Malaysia 2009-01-01   0  24    75    3             \n",
       "2 3 Kuala Lumpur, Malaysia 2009-01-01 100  24    74    3             \n",
       "3 4 Kuala Lumpur, Malaysia 2009-01-01 200  23    74    3             \n",
       "4 5 Kuala Lumpur, Malaysia 2009-01-01 300  23    74    3             \n",
       "5 6 Kuala Lumpur, Malaysia 2009-01-01 400  23    74    3             \n",
       "6 7 Kuala Lumpur, Malaysia 2009-01-01 500  23    73    3             \n",
       "  windspeedKmph winddirDegree winddir16Point ⋯ pressure cloudcover HeatIndexC\n",
       "1 5             337           NNW            ⋯ 1009     71         26        \n",
       "2 5             338           NNW            ⋯ 1009     60         26        \n",
       "3 5             340           NNW            ⋯ 1009     49         26        \n",
       "4 5             341           NNW            ⋯ 1008     38         26        \n",
       "5 4             340           NNW            ⋯ 1008     39         26        \n",
       "6 4             339           NNW            ⋯ 1008     40         25        \n",
       "  HeatIndexF WindChillC WindChillF WindGustKmph WindGustMiles FeelsLikeC\n",
       "1 80         24         75         9            6             26        \n",
       "2 79         24         74         9            6             26        \n",
       "3 79         23         74         9            6             26        \n",
       "4 78         23         74         9            6             26        \n",
       "5 78         23         74         9            5             26        \n",
       "6 78         23         73         8            5             25        \n",
       "  FeelsLikeF\n",
       "1 80        \n",
       "2 79        \n",
       "3 79        \n",
       "4 78        \n",
       "5 78        \n",
       "6 78        "
      ]
     },
     "metadata": {},
     "output_type": "display_data"
    },
    {
     "data": {
      "text/html": [
       "'============================='"
      ],
      "text/latex": [
       "'============================='"
      ],
      "text/markdown": [
       "'============================='"
      ],
      "text/plain": [
       "[1] \"=============================\""
      ]
     },
     "metadata": {},
     "output_type": "display_data"
    },
    {
     "data": {
      "text/html": [
       "<table>\n",
       "<thead><tr><th></th><th scope=col>X</th><th scope=col>city</th><th scope=col>date</th><th scope=col>time</th><th scope=col>tempC</th><th scope=col>tempF</th><th scope=col>windspeedMiles</th><th scope=col>windspeedKmph</th><th scope=col>winddirDegree</th><th scope=col>winddir16Point</th><th scope=col>⋯</th><th scope=col>pressure</th><th scope=col>cloudcover</th><th scope=col>HeatIndexC</th><th scope=col>HeatIndexF</th><th scope=col>WindChillC</th><th scope=col>WindChillF</th><th scope=col>WindGustKmph</th><th scope=col>WindGustMiles</th><th scope=col>FeelsLikeC</th><th scope=col>FeelsLikeF</th></tr></thead>\n",
       "<tbody>\n",
       "\t<tr><th scope=row>70075</th><td>70076                 </td><td>Kuala Lumpur, Malaysia</td><td>2016-12-31            </td><td>1800                  </td><td>30                    </td><td>87                    </td><td>1                     </td><td>2                     </td><td>49                    </td><td>NE                    </td><td>⋯                     </td><td>1008                  </td><td>56                    </td><td>38                    </td><td>100                   </td><td>30                    </td><td>87                    </td><td> 4                    </td><td>2                     </td><td>38                    </td><td>100                   </td></tr>\n",
       "\t<tr><th scope=row>70076</th><td>70077                 </td><td>Kuala Lumpur, Malaysia</td><td>2016-12-31            </td><td>1900                  </td><td>30                    </td><td>85                    </td><td>2                     </td><td>3                     </td><td>50                    </td><td>NE                    </td><td>⋯                     </td><td>1008                  </td><td>60                    </td><td>35                    </td><td> 96                   </td><td>30                    </td><td>85                    </td><td> 6                    </td><td>4                     </td><td>35                    </td><td> 96                   </td></tr>\n",
       "\t<tr><th scope=row>70077</th><td>70078                 </td><td>Kuala Lumpur, Malaysia</td><td>2016-12-31            </td><td>2000                  </td><td>29                    </td><td>84                    </td><td>3                     </td><td>4                     </td><td>52                    </td><td>NE                    </td><td>⋯                     </td><td>1009                  </td><td>63                    </td><td>33                    </td><td> 92                   </td><td>29                    </td><td>84                    </td><td> 8                    </td><td>5                     </td><td>33                    </td><td> 92                   </td></tr>\n",
       "\t<tr><th scope=row>70078</th><td>70079                 </td><td>Kuala Lumpur, Malaysia</td><td>2016-12-31            </td><td>2100                  </td><td>28                    </td><td>83                    </td><td>3                     </td><td>5                     </td><td>53                    </td><td>NE                    </td><td>⋯                     </td><td>1009                  </td><td>66                    </td><td>31                    </td><td> 87                   </td><td>28                    </td><td>83                    </td><td> 9                    </td><td>6                     </td><td>31                    </td><td> 87                   </td></tr>\n",
       "\t<tr><th scope=row>70079</th><td>70080                 </td><td>Kuala Lumpur, Malaysia</td><td>2016-12-31            </td><td>2200                  </td><td>27                    </td><td>81                    </td><td>4                     </td><td>6                     </td><td>55                    </td><td>NE                    </td><td>⋯                     </td><td>1009                  </td><td>62                    </td><td>30                    </td><td> 85                   </td><td>27                    </td><td>81                    </td><td>10                    </td><td>6                     </td><td>30                    </td><td> 85                   </td></tr>\n",
       "\t<tr><th scope=row>70080</th><td>70081                 </td><td>Kuala Lumpur, Malaysia</td><td>2016-12-31            </td><td>2300                  </td><td>26                    </td><td>79                    </td><td>4                     </td><td>6                     </td><td>57                    </td><td>ENE                   </td><td>⋯                     </td><td>1010                  </td><td>57                    </td><td>28                    </td><td> 83                   </td><td>26                    </td><td>79                    </td><td>12                    </td><td>7                     </td><td>28                    </td><td> 83                   </td></tr>\n",
       "</tbody>\n",
       "</table>\n"
      ],
      "text/latex": [
       "\\begin{tabular}{r|lllllllllllllllllllllllll}\n",
       "  & X & city & date & time & tempC & tempF & windspeedMiles & windspeedKmph & winddirDegree & winddir16Point & ⋯ & pressure & cloudcover & HeatIndexC & HeatIndexF & WindChillC & WindChillF & WindGustKmph & WindGustMiles & FeelsLikeC & FeelsLikeF\\\\\n",
       "\\hline\n",
       "\t70075 & 70076                  & Kuala Lumpur, Malaysia & 2016-12-31             & 1800                   & 30                     & 87                     & 1                      & 2                      & 49                     & NE                     & ⋯                      & 1008                   & 56                     & 38                     & 100                    & 30                     & 87                     &  4                     & 2                      & 38                     & 100                   \\\\\n",
       "\t70076 & 70077                  & Kuala Lumpur, Malaysia & 2016-12-31             & 1900                   & 30                     & 85                     & 2                      & 3                      & 50                     & NE                     & ⋯                      & 1008                   & 60                     & 35                     &  96                    & 30                     & 85                     &  6                     & 4                      & 35                     &  96                   \\\\\n",
       "\t70077 & 70078                  & Kuala Lumpur, Malaysia & 2016-12-31             & 2000                   & 29                     & 84                     & 3                      & 4                      & 52                     & NE                     & ⋯                      & 1009                   & 63                     & 33                     &  92                    & 29                     & 84                     &  8                     & 5                      & 33                     &  92                   \\\\\n",
       "\t70078 & 70079                  & Kuala Lumpur, Malaysia & 2016-12-31             & 2100                   & 28                     & 83                     & 3                      & 5                      & 53                     & NE                     & ⋯                      & 1009                   & 66                     & 31                     &  87                    & 28                     & 83                     &  9                     & 6                      & 31                     &  87                   \\\\\n",
       "\t70079 & 70080                  & Kuala Lumpur, Malaysia & 2016-12-31             & 2200                   & 27                     & 81                     & 4                      & 6                      & 55                     & NE                     & ⋯                      & 1009                   & 62                     & 30                     &  85                    & 27                     & 81                     & 10                     & 6                      & 30                     &  85                   \\\\\n",
       "\t70080 & 70081                  & Kuala Lumpur, Malaysia & 2016-12-31             & 2300                   & 26                     & 79                     & 4                      & 6                      & 57                     & ENE                    & ⋯                      & 1010                   & 57                     & 28                     &  83                    & 26                     & 79                     & 12                     & 7                      & 28                     &  83                   \\\\\n",
       "\\end{tabular}\n"
      ],
      "text/markdown": [
       "\n",
       "| <!--/--> | X | city | date | time | tempC | tempF | windspeedMiles | windspeedKmph | winddirDegree | winddir16Point | ⋯ | pressure | cloudcover | HeatIndexC | HeatIndexF | WindChillC | WindChillF | WindGustKmph | WindGustMiles | FeelsLikeC | FeelsLikeF | \n",
       "|---|---|---|---|---|---|\n",
       "| 70075 | 70076                  | Kuala Lumpur, Malaysia | 2016-12-31             | 1800                   | 30                     | 87                     | 1                      | 2                      | 49                     | NE                     | ⋯                      | 1008                   | 56                     | 38                     | 100                    | 30                     | 87                     |  4                     | 2                      | 38                     | 100                    | \n",
       "| 70076 | 70077                  | Kuala Lumpur, Malaysia | 2016-12-31             | 1900                   | 30                     | 85                     | 2                      | 3                      | 50                     | NE                     | ⋯                      | 1008                   | 60                     | 35                     |  96                    | 30                     | 85                     |  6                     | 4                      | 35                     |  96                    | \n",
       "| 70077 | 70078                  | Kuala Lumpur, Malaysia | 2016-12-31             | 2000                   | 29                     | 84                     | 3                      | 4                      | 52                     | NE                     | ⋯                      | 1009                   | 63                     | 33                     |  92                    | 29                     | 84                     |  8                     | 5                      | 33                     |  92                    | \n",
       "| 70078 | 70079                  | Kuala Lumpur, Malaysia | 2016-12-31             | 2100                   | 28                     | 83                     | 3                      | 5                      | 53                     | NE                     | ⋯                      | 1009                   | 66                     | 31                     |  87                    | 28                     | 83                     |  9                     | 6                      | 31                     |  87                    | \n",
       "| 70079 | 70080                  | Kuala Lumpur, Malaysia | 2016-12-31             | 2200                   | 27                     | 81                     | 4                      | 6                      | 55                     | NE                     | ⋯                      | 1009                   | 62                     | 30                     |  85                    | 27                     | 81                     | 10                     | 6                      | 30                     |  85                    | \n",
       "| 70080 | 70081                  | Kuala Lumpur, Malaysia | 2016-12-31             | 2300                   | 26                     | 79                     | 4                      | 6                      | 57                     | ENE                    | ⋯                      | 1010                   | 57                     | 28                     |  83                    | 26                     | 79                     | 12                     | 7                      | 28                     |  83                    | \n",
       "\n",
       "\n"
      ],
      "text/plain": [
       "      X     city                   date       time tempC tempF windspeedMiles\n",
       "70075 70076 Kuala Lumpur, Malaysia 2016-12-31 1800 30    87    1             \n",
       "70076 70077 Kuala Lumpur, Malaysia 2016-12-31 1900 30    85    2             \n",
       "70077 70078 Kuala Lumpur, Malaysia 2016-12-31 2000 29    84    3             \n",
       "70078 70079 Kuala Lumpur, Malaysia 2016-12-31 2100 28    83    3             \n",
       "70079 70080 Kuala Lumpur, Malaysia 2016-12-31 2200 27    81    4             \n",
       "70080 70081 Kuala Lumpur, Malaysia 2016-12-31 2300 26    79    4             \n",
       "      windspeedKmph winddirDegree winddir16Point ⋯ pressure cloudcover\n",
       "70075 2             49            NE             ⋯ 1008     56        \n",
       "70076 3             50            NE             ⋯ 1008     60        \n",
       "70077 4             52            NE             ⋯ 1009     63        \n",
       "70078 5             53            NE             ⋯ 1009     66        \n",
       "70079 6             55            NE             ⋯ 1009     62        \n",
       "70080 6             57            ENE            ⋯ 1010     57        \n",
       "      HeatIndexC HeatIndexF WindChillC WindChillF WindGustKmph WindGustMiles\n",
       "70075 38         100        30         87          4           2            \n",
       "70076 35          96        30         85          6           4            \n",
       "70077 33          92        29         84          8           5            \n",
       "70078 31          87        28         83          9           6            \n",
       "70079 30          85        27         81         10           6            \n",
       "70080 28          83        26         79         12           7            \n",
       "      FeelsLikeC FeelsLikeF\n",
       "70075 38         100       \n",
       "70076 35          96       \n",
       "70077 33          92       \n",
       "70078 31          87       \n",
       "70079 30          85       \n",
       "70080 28          83       "
      ]
     },
     "metadata": {},
     "output_type": "display_data"
    }
   ],
   "source": [
    "head(kl_w)\n",
    "'============================='\n",
    "tail(kl_w)"
   ]
  },
  {
   "cell_type": "markdown",
   "metadata": {},
   "source": [
    "<font size=\"+1\" style=\"color:Purple\">I can conclude that I have data from 1st January 2009 to 31st December 2016</font>\n",
    "\n"
   ]
  },
  {
   "cell_type": "code",
   "execution_count": 195,
   "metadata": {
    "scrolled": false
   },
   "outputs": [
    {
     "data": {
      "text/plain": [
       "       X                             city               date      \n",
       " Min.   :    2   Kuala Lumpur, Malaysia:70080   2009-01-01:   24  \n",
       " 1st Qu.:17522                                  2009-01-02:   24  \n",
       " Median :35042                                  2009-01-03:   24  \n",
       " Mean   :35042                                  2009-01-04:   24  \n",
       " 3rd Qu.:52561                                  2009-01-05:   24  \n",
       " Max.   :70081                                  2009-01-06:   24  \n",
       "                                                (Other)   :69936  \n",
       "      time          tempC           tempF        windspeedMiles  \n",
       " Min.   :   0   Min.   :20.00   Min.   : 68.00   Min.   : 0.000  \n",
       " 1st Qu.: 575   1st Qu.:24.00   1st Qu.: 75.00   1st Qu.: 2.000  \n",
       " Median :1150   Median :27.00   Median : 80.00   Median : 3.000  \n",
       " Mean   :1150   Mean   :27.52   Mean   : 81.49   Mean   : 2.721  \n",
       " 3rd Qu.:1725   3rd Qu.:31.00   3rd Qu.: 87.00   3rd Qu.: 3.000  \n",
       " Max.   :2300   Max.   :40.00   Max.   :104.00   Max.   :10.000  \n",
       "                                                                 \n",
       " windspeedKmph    winddirDegree   winddir16Point   weatherCode   \n",
       " Min.   : 0.000   Min.   :  3.0   ENE    : 9355   Min.   :113.0  \n",
       " 1st Qu.: 3.000   1st Qu.: 81.0   NE     : 5972   1st Qu.:116.0  \n",
       " Median : 4.000   Median :169.0   W      : 5871   Median :176.0  \n",
       " Mean   : 4.392   Mean   :169.5   WSW    : 5436   Mean   :205.7  \n",
       " 3rd Qu.: 5.000   3rd Qu.:249.0   E      : 5157   3rd Qu.:353.0  \n",
       " Max.   :15.000   Max.   :358.0   SSW    : 5094   Max.   :389.0  \n",
       "                                  (Other):33195                  \n",
       "                      weatherDescValue    precipMM         humidity    \n",
       " Patchy rain possible         :18621   Min.   : 0.000   Min.   :26.00  \n",
       " Partly cloudy                :11571   1st Qu.: 0.100   1st Qu.:70.00  \n",
       " Moderate or heavy rain shower: 9538   Median : 0.500   Median :83.00  \n",
       " Light rain shower            : 8326   Mean   : 1.145   Mean   :79.51  \n",
       " Sunny                        : 7188   3rd Qu.: 1.600   3rd Qu.:91.00  \n",
       " Clear                        : 5922   Max.   :51.100   Max.   :99.00  \n",
       " (Other)                      : 8914                                   \n",
       "   visibility        pressure      cloudcover       HeatIndexC   \n",
       " Min.   : 0.000   Min.   :1002   Min.   :  0.00   Min.   :20.00  \n",
       " 1st Qu.: 8.000   1st Qu.:1008   1st Qu.: 23.00   1st Qu.:27.00  \n",
       " Median : 9.000   Median :1009   Median : 34.00   Median :31.00  \n",
       " Mean   : 8.716   Mean   :1009   Mean   : 36.74   Mean   :31.84  \n",
       " 3rd Qu.:10.000   3rd Qu.:1011   3rd Qu.: 48.00   3rd Qu.:36.00  \n",
       " Max.   :10.000   Max.   :1016   Max.   :100.00   Max.   :51.00  \n",
       "                                                                 \n",
       "   HeatIndexF       WindChillC      WindChillF      WindGustKmph   \n",
       " Min.   : 68.00   Min.   :20.00   Min.   : 68.00   Min.   : 0.000  \n",
       " 1st Qu.: 80.00   1st Qu.:24.00   1st Qu.: 75.00   1st Qu.: 5.000  \n",
       " Median : 87.00   Median :27.00   Median : 80.00   Median : 7.000  \n",
       " Mean   : 89.27   Mean   :27.66   Mean   : 81.76   Mean   : 7.038  \n",
       " 3rd Qu.: 97.00   3rd Qu.:31.00   3rd Qu.: 88.00   3rd Qu.: 9.000  \n",
       " Max.   :124.00   Max.   :40.00   Max.   :104.00   Max.   :22.000  \n",
       "                                                                   \n",
       " WindGustMiles      FeelsLikeC      FeelsLikeF    \n",
       " Min.   : 0.000   Min.   :20.00   Min.   : 68.00  \n",
       " 1st Qu.: 3.000   1st Qu.:27.00   1st Qu.: 80.00  \n",
       " Median : 4.000   Median :31.00   Median : 87.00  \n",
       " Mean   : 4.368   Mean   :31.82   Mean   : 89.23  \n",
       " 3rd Qu.: 6.000   3rd Qu.:36.00   3rd Qu.: 97.00  \n",
       " Max.   :13.000   Max.   :51.00   Max.   :124.00  \n",
       "                                                  "
      ]
     },
     "metadata": {},
     "output_type": "display_data"
    }
   ],
   "source": [
    "summary(kl_w)"
   ]
  },
  {
   "cell_type": "markdown",
   "metadata": {},
   "source": [
    "<span style=\"color:red\">Temperature related</span>\n",
    "\n",
    "tempC: 20.00-40.00\n",
    "\n",
    "HeatIndexC: 20.00-51.00\n",
    "\n",
    "WindChillC: 20.00-40.00\n",
    "\n",
    "FeelsLikeC: 20.00-51.00\n",
    "\n",
    "<span style=\"color:green\">Wind speed related\n",
    "\n",
    "windspeedKmph: 0.000-15.000\n",
    "\n",
    "WindGustKmph: 0.000-22.000\n",
    "\n",
    "<span style=\"color:orange\">Other Attributes</span>\n",
    "\n",
    "pressure: 1002-1016\n",
    "\n",
    "humidity: 26.00-99.00\n",
    "\n",
    "time: 0-2300\n",
    "\n",
    "cloudcover: 0.00-100.00\n",
    "\n",
    "visibility: 0.000-10.000\n",
    "\n",
    "precipMM: 0.000-51.000\n",
    "\n",
    "winddirDegree: 3.0-358.0"
   ]
  },
  {
   "cell_type": "code",
   "execution_count": 196,
   "metadata": {},
   "outputs": [
    {
     "data": {
      "text/html": [
       "<ol class=list-inline>\n",
       "\t<li>Light rain shower</li>\n",
       "\t<li>Patchy rain possible</li>\n",
       "\t<li>Torrential rain shower</li>\n",
       "\t<li>Moderate or heavy rain shower</li>\n",
       "\t<li>Patchy light drizzle</li>\n",
       "\t<li>Light rain</li>\n",
       "\t<li>Moderate rain</li>\n",
       "\t<li>Heavy rain</li>\n",
       "\t<li>Heavy rain at times</li>\n",
       "\t<li>Moderate rain at times</li>\n",
       "\t<li>Patchy light rain</li>\n",
       "\t<li>Mist</li>\n",
       "\t<li>Partly cloudy</li>\n",
       "\t<li>Sunny</li>\n",
       "\t<li>Clear</li>\n",
       "\t<li>Cloudy</li>\n",
       "\t<li>Fog</li>\n",
       "\t<li>Patchy light rain with thunder</li>\n",
       "\t<li>Thundery outbreaks possible</li>\n",
       "\t<li>Light drizzle</li>\n",
       "\t<li>Overcast</li>\n",
       "\t<li>Moderate or heavy rain with thunder</li>\n",
       "</ol>\n"
      ],
      "text/latex": [
       "\\begin{enumerate*}\n",
       "\\item Light rain shower\n",
       "\\item Patchy rain possible\n",
       "\\item Torrential rain shower\n",
       "\\item Moderate or heavy rain shower\n",
       "\\item Patchy light drizzle\n",
       "\\item Light rain\n",
       "\\item Moderate rain\n",
       "\\item Heavy rain\n",
       "\\item Heavy rain at times\n",
       "\\item Moderate rain at times\n",
       "\\item Patchy light rain\n",
       "\\item Mist\n",
       "\\item Partly cloudy\n",
       "\\item Sunny\n",
       "\\item Clear\n",
       "\\item Cloudy\n",
       "\\item Fog\n",
       "\\item Patchy light rain with thunder\n",
       "\\item Thundery outbreaks possible\n",
       "\\item Light drizzle\n",
       "\\item Overcast\n",
       "\\item Moderate or heavy rain with thunder\n",
       "\\end{enumerate*}\n"
      ],
      "text/markdown": [
       "1. Light rain shower\n",
       "2. Patchy rain possible\n",
       "3. Torrential rain shower\n",
       "4. Moderate or heavy rain shower\n",
       "5. Patchy light drizzle\n",
       "6. Light rain\n",
       "7. Moderate rain\n",
       "8. Heavy rain\n",
       "9. Heavy rain at times\n",
       "10. Moderate rain at times\n",
       "11. Patchy light rain\n",
       "12. Mist\n",
       "13. Partly cloudy\n",
       "14. Sunny\n",
       "15. Clear\n",
       "16. Cloudy\n",
       "17. Fog\n",
       "18. Patchy light rain with thunder\n",
       "19. Thundery outbreaks possible\n",
       "20. Light drizzle\n",
       "21. Overcast\n",
       "22. Moderate or heavy rain with thunder\n",
       "\n",
       "\n"
      ],
      "text/plain": [
       " [1] Light rain shower                   Patchy rain possible               \n",
       " [3] Torrential rain shower              Moderate or heavy rain shower      \n",
       " [5] Patchy light drizzle                Light rain                         \n",
       " [7] Moderate rain                       Heavy rain                         \n",
       " [9] Heavy rain at times                 Moderate rain at times             \n",
       "[11] Patchy light rain                   Mist                               \n",
       "[13] Partly cloudy                       Sunny                              \n",
       "[15] Clear                               Cloudy                             \n",
       "[17] Fog                                 Patchy light rain with thunder     \n",
       "[19] Thundery outbreaks possible         Light drizzle                      \n",
       "[21] Overcast                            Moderate or heavy rain with thunder\n",
       "22 Levels: Clear Cloudy Fog Heavy rain Heavy rain at times ... Torrential rain shower"
      ]
     },
     "metadata": {},
     "output_type": "display_data"
    }
   ],
   "source": [
    "unique(kl_w$weatherDescValue)"
   ]
  },
  {
   "cell_type": "code",
   "execution_count": 197,
   "metadata": {
    "scrolled": false
   },
   "outputs": [
    {
     "data": {
      "text/plain": [
       "\n",
       "                              Clear                              Cloudy \n",
       "                               5922                                1107 \n",
       "                                Fog                          Heavy rain \n",
       "                                339                                 156 \n",
       "                Heavy rain at times                       Light drizzle \n",
       "                                 63                                 348 \n",
       "                         Light rain                   Light rain shower \n",
       "                                318                                8326 \n",
       "                               Mist       Moderate or heavy rain shower \n",
       "                               3028                                9538 \n",
       "Moderate or heavy rain with thunder                       Moderate rain \n",
       "                                 21                                 258 \n",
       "             Moderate rain at times                            Overcast \n",
       "                                258                                  72 \n",
       "                      Partly cloudy                Patchy light drizzle \n",
       "                              11571                                1161 \n",
       "                  Patchy light rain      Patchy light rain with thunder \n",
       "                                597                                 417 \n",
       "               Patchy rain possible                               Sunny \n",
       "                              18621                                7188 \n",
       "        Thundery outbreaks possible              Torrential rain shower \n",
       "                                 78                                 693 "
      ]
     },
     "metadata": {},
     "output_type": "display_data"
    }
   ],
   "source": [
    "table(kl_w$weatherDescValue)"
   ]
  },
  {
   "cell_type": "code",
   "execution_count": 198,
   "metadata": {},
   "outputs": [],
   "source": [
    "kl_w$date=as.Date(kl_w$date)"
   ]
  },
  {
   "cell_type": "code",
   "execution_count": 199,
   "metadata": {},
   "outputs": [
    {
     "data": {
      "text/html": [
       "'Date'"
      ],
      "text/latex": [
       "'Date'"
      ],
      "text/markdown": [
       "'Date'"
      ],
      "text/plain": [
       "[1] \"Date\""
      ]
     },
     "metadata": {},
     "output_type": "display_data"
    }
   ],
   "source": [
    "class(kl_w$date)"
   ]
  },
  {
   "cell_type": "code",
   "execution_count": 200,
   "metadata": {},
   "outputs": [
    {
     "data": {
      "text/html": [
       "<table>\n",
       "<thead><tr><th scope=col>time</th><th scope=col>tempC</th><th scope=col>windspeedKmph</th><th scope=col>humidity</th><th scope=col>pressure</th><th scope=col>WindChillC</th><th scope=col>WindGustKmph</th></tr></thead>\n",
       "<tbody>\n",
       "\t<tr><td>   0</td><td>24  </td><td>5   </td><td>95  </td><td>1009</td><td>24  </td><td> 9  </td></tr>\n",
       "\t<tr><td> 100</td><td>24  </td><td>5   </td><td>95  </td><td>1009</td><td>24  </td><td> 9  </td></tr>\n",
       "\t<tr><td> 200</td><td>23  </td><td>5   </td><td>96  </td><td>1009</td><td>23  </td><td> 9  </td></tr>\n",
       "\t<tr><td> 300</td><td>23  </td><td>5   </td><td>96  </td><td>1008</td><td>23  </td><td> 9  </td></tr>\n",
       "\t<tr><td> 400</td><td>23  </td><td>4   </td><td>96  </td><td>1008</td><td>23  </td><td> 9  </td></tr>\n",
       "\t<tr><td> 500</td><td>23  </td><td>4   </td><td>96  </td><td>1008</td><td>23  </td><td> 8  </td></tr>\n",
       "\t<tr><td> 600</td><td>23  </td><td>4   </td><td>96  </td><td>1008</td><td>23  </td><td> 8  </td></tr>\n",
       "\t<tr><td> 700</td><td>23  </td><td>4   </td><td>95  </td><td>1008</td><td>23  </td><td> 7  </td></tr>\n",
       "\t<tr><td> 800</td><td>24  </td><td>4   </td><td>94  </td><td>1009</td><td>24  </td><td> 7  </td></tr>\n",
       "\t<tr><td> 900</td><td>24  </td><td>4   </td><td>93  </td><td>1009</td><td>24  </td><td> 6  </td></tr>\n",
       "\t<tr><td>1000</td><td>25  </td><td>3   </td><td>91  </td><td>1009</td><td>25  </td><td> 6  </td></tr>\n",
       "\t<tr><td>1100</td><td>26  </td><td>3   </td><td>90  </td><td>1009</td><td>26  </td><td> 6  </td></tr>\n",
       "\t<tr><td>1200</td><td>27  </td><td>3   </td><td>88  </td><td>1010</td><td>27  </td><td> 6  </td></tr>\n",
       "\t<tr><td>1300</td><td>27  </td><td>4   </td><td>90  </td><td>1009</td><td>27  </td><td> 8  </td></tr>\n",
       "\t<tr><td>1400</td><td>27  </td><td>5   </td><td>91  </td><td>1009</td><td>27  </td><td>10  </td></tr>\n",
       "\t<tr><td>1500</td><td>28  </td><td>6   </td><td>92  </td><td>1008</td><td>28  </td><td>13  </td></tr>\n",
       "\t<tr><td>1600</td><td>27  </td><td>6   </td><td>93  </td><td>1008</td><td>27  </td><td>12  </td></tr>\n",
       "\t<tr><td>1700</td><td>27  </td><td>5   </td><td>94  </td><td>1008</td><td>27  </td><td>10  </td></tr>\n",
       "\t<tr><td>1800</td><td>27  </td><td>5   </td><td>95  </td><td>1007</td><td>27  </td><td> 9  </td></tr>\n",
       "\t<tr><td>1900</td><td>27  </td><td>4   </td><td>96  </td><td>1008</td><td>27  </td><td> 9  </td></tr>\n",
       "\t<tr><td>2000</td><td>26  </td><td>4   </td><td>96  </td><td>1008</td><td>26  </td><td> 8  </td></tr>\n",
       "\t<tr><td>2100</td><td>26  </td><td>4   </td><td>97  </td><td>1009</td><td>26  </td><td> 7  </td></tr>\n",
       "\t<tr><td>2200</td><td>26  </td><td>4   </td><td>97  </td><td>1009</td><td>26  </td><td> 7  </td></tr>\n",
       "\t<tr><td>2300</td><td>25  </td><td>4   </td><td>97  </td><td>1010</td><td>25  </td><td> 7  </td></tr>\n",
       "</tbody>\n",
       "</table>\n"
      ],
      "text/latex": [
       "\\begin{tabular}{r|lllllll}\n",
       " time & tempC & windspeedKmph & humidity & pressure & WindChillC & WindGustKmph\\\\\n",
       "\\hline\n",
       "\t    0 & 24   & 5    & 95   & 1009 & 24   &  9  \\\\\n",
       "\t  100 & 24   & 5    & 95   & 1009 & 24   &  9  \\\\\n",
       "\t  200 & 23   & 5    & 96   & 1009 & 23   &  9  \\\\\n",
       "\t  300 & 23   & 5    & 96   & 1008 & 23   &  9  \\\\\n",
       "\t  400 & 23   & 4    & 96   & 1008 & 23   &  9  \\\\\n",
       "\t  500 & 23   & 4    & 96   & 1008 & 23   &  8  \\\\\n",
       "\t  600 & 23   & 4    & 96   & 1008 & 23   &  8  \\\\\n",
       "\t  700 & 23   & 4    & 95   & 1008 & 23   &  7  \\\\\n",
       "\t  800 & 24   & 4    & 94   & 1009 & 24   &  7  \\\\\n",
       "\t  900 & 24   & 4    & 93   & 1009 & 24   &  6  \\\\\n",
       "\t 1000 & 25   & 3    & 91   & 1009 & 25   &  6  \\\\\n",
       "\t 1100 & 26   & 3    & 90   & 1009 & 26   &  6  \\\\\n",
       "\t 1200 & 27   & 3    & 88   & 1010 & 27   &  6  \\\\\n",
       "\t 1300 & 27   & 4    & 90   & 1009 & 27   &  8  \\\\\n",
       "\t 1400 & 27   & 5    & 91   & 1009 & 27   & 10  \\\\\n",
       "\t 1500 & 28   & 6    & 92   & 1008 & 28   & 13  \\\\\n",
       "\t 1600 & 27   & 6    & 93   & 1008 & 27   & 12  \\\\\n",
       "\t 1700 & 27   & 5    & 94   & 1008 & 27   & 10  \\\\\n",
       "\t 1800 & 27   & 5    & 95   & 1007 & 27   &  9  \\\\\n",
       "\t 1900 & 27   & 4    & 96   & 1008 & 27   &  9  \\\\\n",
       "\t 2000 & 26   & 4    & 96   & 1008 & 26   &  8  \\\\\n",
       "\t 2100 & 26   & 4    & 97   & 1009 & 26   &  7  \\\\\n",
       "\t 2200 & 26   & 4    & 97   & 1009 & 26   &  7  \\\\\n",
       "\t 2300 & 25   & 4    & 97   & 1010 & 25   &  7  \\\\\n",
       "\\end{tabular}\n"
      ],
      "text/markdown": [
       "\n",
       "time | tempC | windspeedKmph | humidity | pressure | WindChillC | WindGustKmph | \n",
       "|---|---|---|---|---|---|---|---|---|---|---|---|---|---|---|---|---|---|---|---|---|---|---|---|\n",
       "|    0 | 24   | 5    | 95   | 1009 | 24   |  9   | \n",
       "|  100 | 24   | 5    | 95   | 1009 | 24   |  9   | \n",
       "|  200 | 23   | 5    | 96   | 1009 | 23   |  9   | \n",
       "|  300 | 23   | 5    | 96   | 1008 | 23   |  9   | \n",
       "|  400 | 23   | 4    | 96   | 1008 | 23   |  9   | \n",
       "|  500 | 23   | 4    | 96   | 1008 | 23   |  8   | \n",
       "|  600 | 23   | 4    | 96   | 1008 | 23   |  8   | \n",
       "|  700 | 23   | 4    | 95   | 1008 | 23   |  7   | \n",
       "|  800 | 24   | 4    | 94   | 1009 | 24   |  7   | \n",
       "|  900 | 24   | 4    | 93   | 1009 | 24   |  6   | \n",
       "| 1000 | 25   | 3    | 91   | 1009 | 25   |  6   | \n",
       "| 1100 | 26   | 3    | 90   | 1009 | 26   |  6   | \n",
       "| 1200 | 27   | 3    | 88   | 1010 | 27   |  6   | \n",
       "| 1300 | 27   | 4    | 90   | 1009 | 27   |  8   | \n",
       "| 1400 | 27   | 5    | 91   | 1009 | 27   | 10   | \n",
       "| 1500 | 28   | 6    | 92   | 1008 | 28   | 13   | \n",
       "| 1600 | 27   | 6    | 93   | 1008 | 27   | 12   | \n",
       "| 1700 | 27   | 5    | 94   | 1008 | 27   | 10   | \n",
       "| 1800 | 27   | 5    | 95   | 1007 | 27   |  9   | \n",
       "| 1900 | 27   | 4    | 96   | 1008 | 27   |  9   | \n",
       "| 2000 | 26   | 4    | 96   | 1008 | 26   |  8   | \n",
       "| 2100 | 26   | 4    | 97   | 1009 | 26   |  7   | \n",
       "| 2200 | 26   | 4    | 97   | 1009 | 26   |  7   | \n",
       "| 2300 | 25   | 4    | 97   | 1010 | 25   |  7   | \n",
       "\n",
       "\n"
      ],
      "text/plain": [
       "   time tempC windspeedKmph humidity pressure WindChillC WindGustKmph\n",
       "1     0 24    5             95       1009     24          9          \n",
       "2   100 24    5             95       1009     24          9          \n",
       "3   200 23    5             96       1009     23          9          \n",
       "4   300 23    5             96       1008     23          9          \n",
       "5   400 23    4             96       1008     23          9          \n",
       "6   500 23    4             96       1008     23          8          \n",
       "7   600 23    4             96       1008     23          8          \n",
       "8   700 23    4             95       1008     23          7          \n",
       "9   800 24    4             94       1009     24          7          \n",
       "10  900 24    4             93       1009     24          6          \n",
       "11 1000 25    3             91       1009     25          6          \n",
       "12 1100 26    3             90       1009     26          6          \n",
       "13 1200 27    3             88       1010     27          6          \n",
       "14 1300 27    4             90       1009     27          8          \n",
       "15 1400 27    5             91       1009     27         10          \n",
       "16 1500 28    6             92       1008     28         13          \n",
       "17 1600 27    6             93       1008     27         12          \n",
       "18 1700 27    5             94       1008     27         10          \n",
       "19 1800 27    5             95       1007     27          9          \n",
       "20 1900 27    4             96       1008     27          9          \n",
       "21 2000 26    4             96       1008     26          8          \n",
       "22 2100 26    4             97       1009     26          7          \n",
       "23 2200 26    4             97       1009     26          7          \n",
       "24 2300 25    4             97       1010     25          7          "
      ]
     },
     "metadata": {},
     "output_type": "display_data"
    },
    {
     "data": {
      "text/html": [
       "<table>\n",
       "<thead><tr><th></th><th scope=col>time</th><th scope=col>tempC</th><th scope=col>windspeedKmph</th><th scope=col>humidity</th><th scope=col>pressure</th><th scope=col>WindChillC</th><th scope=col>WindGustKmph</th></tr></thead>\n",
       "<tbody>\n",
       "\t<tr><th scope=row>time</th><td> 1.00000000 </td><td> 0.49210651 </td><td> 0.09375488 </td><td>-0.33794500 </td><td>-0.326374345</td><td> 0.48531298 </td><td>-0.030659469</td></tr>\n",
       "\t<tr><th scope=row>tempC</th><td> 0.49210651 </td><td> 1.00000000 </td><td> 0.33486343 </td><td>-0.86974004 </td><td>-0.277828677</td><td> 0.99233605 </td><td> 0.021297327</td></tr>\n",
       "\t<tr><th scope=row>windspeedKmph</th><td> 0.09375488 </td><td> 0.33486343 </td><td> 1.00000000 </td><td>-0.41210812 </td><td>-0.055559016</td><td> 0.33860183 </td><td> 0.846748966</td></tr>\n",
       "\t<tr><th scope=row>humidity</th><td>-0.33794500 </td><td>-0.86974004 </td><td>-0.41210812 </td><td> 1.00000000 </td><td> 0.227703823</td><td>-0.87622562 </td><td>-0.074543348</td></tr>\n",
       "\t<tr><th scope=row>pressure</th><td>-0.32637434 </td><td>-0.27782868 </td><td>-0.05555902 </td><td> 0.22770382 </td><td> 1.000000000</td><td>-0.28614780 </td><td> 0.001015119</td></tr>\n",
       "\t<tr><th scope=row>WindChillC</th><td> 0.48531298 </td><td> 0.99233605 </td><td> 0.33860183 </td><td>-0.87622562 </td><td>-0.286147797</td><td> 1.00000000 </td><td> 0.015860269</td></tr>\n",
       "\t<tr><th scope=row>WindGustKmph</th><td>-0.03065947 </td><td> 0.02129733 </td><td> 0.84674897 </td><td>-0.07454335 </td><td> 0.001015119</td><td> 0.01586027 </td><td> 1.000000000</td></tr>\n",
       "</tbody>\n",
       "</table>\n"
      ],
      "text/latex": [
       "\\begin{tabular}{r|lllllll}\n",
       "  & time & tempC & windspeedKmph & humidity & pressure & WindChillC & WindGustKmph\\\\\n",
       "\\hline\n",
       "\ttime &  1.00000000  &  0.49210651  &  0.09375488  & -0.33794500  & -0.326374345 &  0.48531298  & -0.030659469\\\\\n",
       "\ttempC &  0.49210651  &  1.00000000  &  0.33486343  & -0.86974004  & -0.277828677 &  0.99233605  &  0.021297327\\\\\n",
       "\twindspeedKmph &  0.09375488  &  0.33486343  &  1.00000000  & -0.41210812  & -0.055559016 &  0.33860183  &  0.846748966\\\\\n",
       "\thumidity & -0.33794500  & -0.86974004  & -0.41210812  &  1.00000000  &  0.227703823 & -0.87622562  & -0.074543348\\\\\n",
       "\tpressure & -0.32637434  & -0.27782868  & -0.05555902  &  0.22770382  &  1.000000000 & -0.28614780  &  0.001015119\\\\\n",
       "\tWindChillC &  0.48531298  &  0.99233605  &  0.33860183  & -0.87622562  & -0.286147797 &  1.00000000  &  0.015860269\\\\\n",
       "\tWindGustKmph & -0.03065947  &  0.02129733  &  0.84674897  & -0.07454335  &  0.001015119 &  0.01586027  &  1.000000000\\\\\n",
       "\\end{tabular}\n"
      ],
      "text/markdown": [
       "\n",
       "| <!--/--> | time | tempC | windspeedKmph | humidity | pressure | WindChillC | WindGustKmph | \n",
       "|---|---|---|---|---|---|---|\n",
       "| time |  1.00000000  |  0.49210651  |  0.09375488  | -0.33794500  | -0.326374345 |  0.48531298  | -0.030659469 | \n",
       "| tempC |  0.49210651  |  1.00000000  |  0.33486343  | -0.86974004  | -0.277828677 |  0.99233605  |  0.021297327 | \n",
       "| windspeedKmph |  0.09375488  |  0.33486343  |  1.00000000  | -0.41210812  | -0.055559016 |  0.33860183  |  0.846748966 | \n",
       "| humidity | -0.33794500  | -0.86974004  | -0.41210812  |  1.00000000  |  0.227703823 | -0.87622562  | -0.074543348 | \n",
       "| pressure | -0.32637434  | -0.27782868  | -0.05555902  |  0.22770382  |  1.000000000 | -0.28614780  |  0.001015119 | \n",
       "| WindChillC |  0.48531298  |  0.99233605  |  0.33860183  | -0.87622562  | -0.286147797 |  1.00000000  |  0.015860269 | \n",
       "| WindGustKmph | -0.03065947  |  0.02129733  |  0.84674897  | -0.07454335  |  0.001015119 |  0.01586027  |  1.000000000 | \n",
       "\n",
       "\n"
      ],
      "text/plain": [
       "              time        tempC       windspeedKmph humidity    pressure    \n",
       "time           1.00000000  0.49210651  0.09375488   -0.33794500 -0.326374345\n",
       "tempC          0.49210651  1.00000000  0.33486343   -0.86974004 -0.277828677\n",
       "windspeedKmph  0.09375488  0.33486343  1.00000000   -0.41210812 -0.055559016\n",
       "humidity      -0.33794500 -0.86974004 -0.41210812    1.00000000  0.227703823\n",
       "pressure      -0.32637434 -0.27782868 -0.05555902    0.22770382  1.000000000\n",
       "WindChillC     0.48531298  0.99233605  0.33860183   -0.87622562 -0.286147797\n",
       "WindGustKmph  -0.03065947  0.02129733  0.84674897   -0.07454335  0.001015119\n",
       "              WindChillC  WindGustKmph\n",
       "time           0.48531298 -0.030659469\n",
       "tempC          0.99233605  0.021297327\n",
       "windspeedKmph  0.33860183  0.846748966\n",
       "humidity      -0.87622562 -0.074543348\n",
       "pressure      -0.28614780  0.001015119\n",
       "WindChillC     1.00000000  0.015860269\n",
       "WindGustKmph   0.01586027  1.000000000"
      ]
     },
     "metadata": {},
     "output_type": "display_data"
    }
   ],
   "source": [
    "head(kl_w[c(4, 5, 8, 14, 16,20,22)],24)\n",
    "cor(kl_w[c(4, 5, 8, 14, 16,20,22)])"
   ]
  },
  {
   "cell_type": "markdown",
   "metadata": {},
   "source": [
    "<font size=\"+2\" style=\"color:Blue\">Step 3: Creating  condition for rain prediction </font>"
   ]
  },
  {
   "cell_type": "code",
   "execution_count": 204,
   "metadata": {},
   "outputs": [
    {
     "data": {
      "text/html": [
       "<ol class=list-inline>\n",
       "\t<li>'X'</li>\n",
       "\t<li>'city'</li>\n",
       "\t<li>'date'</li>\n",
       "\t<li>'time'</li>\n",
       "\t<li>'tempC'</li>\n",
       "\t<li>'tempF'</li>\n",
       "\t<li>'windspeedMiles'</li>\n",
       "\t<li>'windspeedKmph'</li>\n",
       "\t<li>'winddirDegree'</li>\n",
       "\t<li>'winddir16Point'</li>\n",
       "\t<li>'weatherCode'</li>\n",
       "\t<li>'weatherDescValue'</li>\n",
       "\t<li>'precipMM'</li>\n",
       "\t<li>'humidity'</li>\n",
       "\t<li>'visibility'</li>\n",
       "\t<li>'pressure'</li>\n",
       "\t<li>'cloudcover'</li>\n",
       "\t<li>'HeatIndexC'</li>\n",
       "\t<li>'HeatIndexF'</li>\n",
       "\t<li>'WindChillC'</li>\n",
       "\t<li>'WindChillF'</li>\n",
       "\t<li>'WindGustKmph'</li>\n",
       "\t<li>'WindGustMiles'</li>\n",
       "\t<li>'FeelsLikeC'</li>\n",
       "\t<li>'FeelsLikeF'</li>\n",
       "\t<li>'heavyRain'</li>\n",
       "</ol>\n"
      ],
      "text/latex": [
       "\\begin{enumerate*}\n",
       "\\item 'X'\n",
       "\\item 'city'\n",
       "\\item 'date'\n",
       "\\item 'time'\n",
       "\\item 'tempC'\n",
       "\\item 'tempF'\n",
       "\\item 'windspeedMiles'\n",
       "\\item 'windspeedKmph'\n",
       "\\item 'winddirDegree'\n",
       "\\item 'winddir16Point'\n",
       "\\item 'weatherCode'\n",
       "\\item 'weatherDescValue'\n",
       "\\item 'precipMM'\n",
       "\\item 'humidity'\n",
       "\\item 'visibility'\n",
       "\\item 'pressure'\n",
       "\\item 'cloudcover'\n",
       "\\item 'HeatIndexC'\n",
       "\\item 'HeatIndexF'\n",
       "\\item 'WindChillC'\n",
       "\\item 'WindChillF'\n",
       "\\item 'WindGustKmph'\n",
       "\\item 'WindGustMiles'\n",
       "\\item 'FeelsLikeC'\n",
       "\\item 'FeelsLikeF'\n",
       "\\item 'heavyRain'\n",
       "\\end{enumerate*}\n"
      ],
      "text/markdown": [
       "1. 'X'\n",
       "2. 'city'\n",
       "3. 'date'\n",
       "4. 'time'\n",
       "5. 'tempC'\n",
       "6. 'tempF'\n",
       "7. 'windspeedMiles'\n",
       "8. 'windspeedKmph'\n",
       "9. 'winddirDegree'\n",
       "10. 'winddir16Point'\n",
       "11. 'weatherCode'\n",
       "12. 'weatherDescValue'\n",
       "13. 'precipMM'\n",
       "14. 'humidity'\n",
       "15. 'visibility'\n",
       "16. 'pressure'\n",
       "17. 'cloudcover'\n",
       "18. 'HeatIndexC'\n",
       "19. 'HeatIndexF'\n",
       "20. 'WindChillC'\n",
       "21. 'WindChillF'\n",
       "22. 'WindGustKmph'\n",
       "23. 'WindGustMiles'\n",
       "24. 'FeelsLikeC'\n",
       "25. 'FeelsLikeF'\n",
       "26. 'heavyRain'\n",
       "\n",
       "\n"
      ],
      "text/plain": [
       " [1] \"X\"                \"city\"             \"date\"             \"time\"            \n",
       " [5] \"tempC\"            \"tempF\"            \"windspeedMiles\"   \"windspeedKmph\"   \n",
       " [9] \"winddirDegree\"    \"winddir16Point\"   \"weatherCode\"      \"weatherDescValue\"\n",
       "[13] \"precipMM\"         \"humidity\"         \"visibility\"       \"pressure\"        \n",
       "[17] \"cloudcover\"       \"HeatIndexC\"       \"HeatIndexF\"       \"WindChillC\"      \n",
       "[21] \"WindChillF\"       \"WindGustKmph\"     \"WindGustMiles\"    \"FeelsLikeC\"      \n",
       "[25] \"FeelsLikeF\"       \"heavyRain\"       "
      ]
     },
     "metadata": {},
     "output_type": "display_data"
    }
   ],
   "source": [
    "tr_ind = grep(\"eavy rain\", kl_w$weatherDescValue)\n",
    "\n",
    "kl_w$heavyRain = 0\n",
    "\n",
    "kl_w[tr_ind,]$heavyRain = 1\n",
    "\n",
    "\n",
    "colnames(kl_w)"
   ]
  },
  {
   "cell_type": "markdown",
   "metadata": {},
   "source": [
    "<font size=\"+2\" style=\"color:Blue\">Step 4: Create Train and Test Data</font>"
   ]
  },
  {
   "cell_type": "code",
   "execution_count": 208,
   "metadata": {
    "collapsed": true
   },
   "outputs": [],
   "source": [
    "train_set = kl_w[substr(kl_w$date, 1,4)%in% c(\"2013\",\"2014\",\"2015\"),]\n",
    "test_set=kl_w[substr(kl_w$date,1,4) %in% c(\"2016\"),]"
   ]
  },
  {
   "cell_type": "code",
   "execution_count": 209,
   "metadata": {},
   "outputs": [
    {
     "name": "stdout",
     "output_type": "stream",
     "text": [
      "[1] \"Train set date head\"\n"
     ]
    },
    {
     "data": {
      "text/html": [
       "<table>\n",
       "<thead><tr><th></th><th scope=col>X</th><th scope=col>city</th><th scope=col>date</th><th scope=col>time</th><th scope=col>tempC</th><th scope=col>tempF</th><th scope=col>windspeedMiles</th><th scope=col>windspeedKmph</th><th scope=col>winddirDegree</th><th scope=col>winddir16Point</th><th scope=col>⋯</th><th scope=col>cloudcover</th><th scope=col>HeatIndexC</th><th scope=col>HeatIndexF</th><th scope=col>WindChillC</th><th scope=col>WindChillF</th><th scope=col>WindGustKmph</th><th scope=col>WindGustMiles</th><th scope=col>FeelsLikeC</th><th scope=col>FeelsLikeF</th><th scope=col>heavyRain</th></tr></thead>\n",
       "<tbody>\n",
       "\t<tr><th scope=row>35041</th><td>35042                 </td><td>Kuala Lumpur, Malaysia</td><td>2013-01-01            </td><td>  0                   </td><td>24                    </td><td>75                    </td><td>3                     </td><td>5                     </td><td>86                    </td><td>E                     </td><td>⋯                     </td><td>59                    </td><td>27                    </td><td>80                    </td><td>24                    </td><td>75                    </td><td> 9                    </td><td>6                     </td><td>27                    </td><td>80                    </td><td>0                     </td></tr>\n",
       "\t<tr><th scope=row>35042</th><td>35043                 </td><td>Kuala Lumpur, Malaysia</td><td>2013-01-01            </td><td>100                   </td><td>23                    </td><td>74                    </td><td>3                     </td><td>5                     </td><td>77                    </td><td>ENE                   </td><td>⋯                     </td><td>69                    </td><td>26                    </td><td>79                    </td><td>23                    </td><td>74                    </td><td>10                    </td><td>6                     </td><td>26                    </td><td>79                    </td><td>0                     </td></tr>\n",
       "</tbody>\n",
       "</table>\n"
      ],
      "text/latex": [
       "\\begin{tabular}{r|llllllllllllllllllllllllll}\n",
       "  & X & city & date & time & tempC & tempF & windspeedMiles & windspeedKmph & winddirDegree & winddir16Point & ⋯ & cloudcover & HeatIndexC & HeatIndexF & WindChillC & WindChillF & WindGustKmph & WindGustMiles & FeelsLikeC & FeelsLikeF & heavyRain\\\\\n",
       "\\hline\n",
       "\t35041 & 35042                  & Kuala Lumpur, Malaysia & 2013-01-01             &   0                    & 24                     & 75                     & 3                      & 5                      & 86                     & E                      & ⋯                      & 59                     & 27                     & 80                     & 24                     & 75                     &  9                     & 6                      & 27                     & 80                     & 0                     \\\\\n",
       "\t35042 & 35043                  & Kuala Lumpur, Malaysia & 2013-01-01             & 100                    & 23                     & 74                     & 3                      & 5                      & 77                     & ENE                    & ⋯                      & 69                     & 26                     & 79                     & 23                     & 74                     & 10                     & 6                      & 26                     & 79                     & 0                     \\\\\n",
       "\\end{tabular}\n"
      ],
      "text/markdown": [
       "\n",
       "| <!--/--> | X | city | date | time | tempC | tempF | windspeedMiles | windspeedKmph | winddirDegree | winddir16Point | ⋯ | cloudcover | HeatIndexC | HeatIndexF | WindChillC | WindChillF | WindGustKmph | WindGustMiles | FeelsLikeC | FeelsLikeF | heavyRain | \n",
       "|---|---|\n",
       "| 35041 | 35042                  | Kuala Lumpur, Malaysia | 2013-01-01             |   0                    | 24                     | 75                     | 3                      | 5                      | 86                     | E                      | ⋯                      | 59                     | 27                     | 80                     | 24                     | 75                     |  9                     | 6                      | 27                     | 80                     | 0                      | \n",
       "| 35042 | 35043                  | Kuala Lumpur, Malaysia | 2013-01-01             | 100                    | 23                     | 74                     | 3                      | 5                      | 77                     | ENE                    | ⋯                      | 69                     | 26                     | 79                     | 23                     | 74                     | 10                     | 6                      | 26                     | 79                     | 0                      | \n",
       "\n",
       "\n"
      ],
      "text/plain": [
       "      X     city                   date       time tempC tempF windspeedMiles\n",
       "35041 35042 Kuala Lumpur, Malaysia 2013-01-01   0  24    75    3             \n",
       "35042 35043 Kuala Lumpur, Malaysia 2013-01-01 100  23    74    3             \n",
       "      windspeedKmph winddirDegree winddir16Point ⋯ cloudcover HeatIndexC\n",
       "35041 5             86            E              ⋯ 59         27        \n",
       "35042 5             77            ENE            ⋯ 69         26        \n",
       "      HeatIndexF WindChillC WindChillF WindGustKmph WindGustMiles FeelsLikeC\n",
       "35041 80         24         75          9           6             27        \n",
       "35042 79         23         74         10           6             26        \n",
       "      FeelsLikeF heavyRain\n",
       "35041 80         0        \n",
       "35042 79         0        "
      ]
     },
     "metadata": {},
     "output_type": "display_data"
    },
    {
     "name": "stdout",
     "output_type": "stream",
     "text": [
      "[1] \"Train set date tail\"\n"
     ]
    },
    {
     "data": {
      "text/html": [
       "<table>\n",
       "<thead><tr><th></th><th scope=col>X</th><th scope=col>city</th><th scope=col>date</th><th scope=col>time</th><th scope=col>tempC</th><th scope=col>tempF</th><th scope=col>windspeedMiles</th><th scope=col>windspeedKmph</th><th scope=col>winddirDegree</th><th scope=col>winddir16Point</th><th scope=col>⋯</th><th scope=col>cloudcover</th><th scope=col>HeatIndexC</th><th scope=col>HeatIndexF</th><th scope=col>WindChillC</th><th scope=col>WindChillF</th><th scope=col>WindGustKmph</th><th scope=col>WindGustMiles</th><th scope=col>FeelsLikeC</th><th scope=col>FeelsLikeF</th><th scope=col>heavyRain</th></tr></thead>\n",
       "<tbody>\n",
       "\t<tr><th scope=row>61319</th><td>61320                 </td><td>Kuala Lumpur, Malaysia</td><td>2015-12-31            </td><td>2200                  </td><td>28                    </td><td>82                    </td><td>3                     </td><td>4                     </td><td>21                    </td><td>NNE                   </td><td>⋯                     </td><td>44                    </td><td>31                    </td><td>89                    </td><td>28                    </td><td>82                    </td><td> 8                    </td><td>5                     </td><td>31                    </td><td>89                    </td><td>0                     </td></tr>\n",
       "\t<tr><th scope=row>61320</th><td>61321                 </td><td>Kuala Lumpur, Malaysia</td><td>2015-12-31            </td><td>2300                  </td><td>26                    </td><td>80                    </td><td>3                     </td><td>5                     </td><td>29                    </td><td>NNE                   </td><td>⋯                     </td><td>39                    </td><td>30                    </td><td>86                    </td><td>26                    </td><td>80                    </td><td>10                    </td><td>6                     </td><td>30                    </td><td>86                    </td><td>0                     </td></tr>\n",
       "</tbody>\n",
       "</table>\n"
      ],
      "text/latex": [
       "\\begin{tabular}{r|llllllllllllllllllllllllll}\n",
       "  & X & city & date & time & tempC & tempF & windspeedMiles & windspeedKmph & winddirDegree & winddir16Point & ⋯ & cloudcover & HeatIndexC & HeatIndexF & WindChillC & WindChillF & WindGustKmph & WindGustMiles & FeelsLikeC & FeelsLikeF & heavyRain\\\\\n",
       "\\hline\n",
       "\t61319 & 61320                  & Kuala Lumpur, Malaysia & 2015-12-31             & 2200                   & 28                     & 82                     & 3                      & 4                      & 21                     & NNE                    & ⋯                      & 44                     & 31                     & 89                     & 28                     & 82                     &  8                     & 5                      & 31                     & 89                     & 0                     \\\\\n",
       "\t61320 & 61321                  & Kuala Lumpur, Malaysia & 2015-12-31             & 2300                   & 26                     & 80                     & 3                      & 5                      & 29                     & NNE                    & ⋯                      & 39                     & 30                     & 86                     & 26                     & 80                     & 10                     & 6                      & 30                     & 86                     & 0                     \\\\\n",
       "\\end{tabular}\n"
      ],
      "text/markdown": [
       "\n",
       "| <!--/--> | X | city | date | time | tempC | tempF | windspeedMiles | windspeedKmph | winddirDegree | winddir16Point | ⋯ | cloudcover | HeatIndexC | HeatIndexF | WindChillC | WindChillF | WindGustKmph | WindGustMiles | FeelsLikeC | FeelsLikeF | heavyRain | \n",
       "|---|---|\n",
       "| 61319 | 61320                  | Kuala Lumpur, Malaysia | 2015-12-31             | 2200                   | 28                     | 82                     | 3                      | 4                      | 21                     | NNE                    | ⋯                      | 44                     | 31                     | 89                     | 28                     | 82                     |  8                     | 5                      | 31                     | 89                     | 0                      | \n",
       "| 61320 | 61321                  | Kuala Lumpur, Malaysia | 2015-12-31             | 2300                   | 26                     | 80                     | 3                      | 5                      | 29                     | NNE                    | ⋯                      | 39                     | 30                     | 86                     | 26                     | 80                     | 10                     | 6                      | 30                     | 86                     | 0                      | \n",
       "\n",
       "\n"
      ],
      "text/plain": [
       "      X     city                   date       time tempC tempF windspeedMiles\n",
       "61319 61320 Kuala Lumpur, Malaysia 2015-12-31 2200 28    82    3             \n",
       "61320 61321 Kuala Lumpur, Malaysia 2015-12-31 2300 26    80    3             \n",
       "      windspeedKmph winddirDegree winddir16Point ⋯ cloudcover HeatIndexC\n",
       "61319 4             21            NNE            ⋯ 44         31        \n",
       "61320 5             29            NNE            ⋯ 39         30        \n",
       "      HeatIndexF WindChillC WindChillF WindGustKmph WindGustMiles FeelsLikeC\n",
       "61319 89         28         82          8           5             31        \n",
       "61320 86         26         80         10           6             30        \n",
       "      FeelsLikeF heavyRain\n",
       "61319 89         0        \n",
       "61320 86         0        "
      ]
     },
     "metadata": {},
     "output_type": "display_data"
    },
    {
     "name": "stdout",
     "output_type": "stream",
     "text": [
      "[1] \"Test set date head\"\n"
     ]
    },
    {
     "data": {
      "text/html": [
       "<table>\n",
       "<thead><tr><th></th><th scope=col>X</th><th scope=col>city</th><th scope=col>date</th><th scope=col>time</th><th scope=col>tempC</th><th scope=col>tempF</th><th scope=col>windspeedMiles</th><th scope=col>windspeedKmph</th><th scope=col>winddirDegree</th><th scope=col>winddir16Point</th><th scope=col>⋯</th><th scope=col>cloudcover</th><th scope=col>HeatIndexC</th><th scope=col>HeatIndexF</th><th scope=col>WindChillC</th><th scope=col>WindChillF</th><th scope=col>WindGustKmph</th><th scope=col>WindGustMiles</th><th scope=col>FeelsLikeC</th><th scope=col>FeelsLikeF</th><th scope=col>heavyRain</th></tr></thead>\n",
       "<tbody>\n",
       "\t<tr><th scope=row>61321</th><td>61322                 </td><td>Kuala Lumpur, Malaysia</td><td>2016-01-01            </td><td>  0                   </td><td>25                    </td><td>78                    </td><td>3                     </td><td>5                     </td><td>36                    </td><td>NE                    </td><td>⋯                     </td><td>34                    </td><td>29                    </td><td>84                    </td><td>25                    </td><td>78                    </td><td>11                    </td><td>7                     </td><td>29                    </td><td>84                    </td><td>0                     </td></tr>\n",
       "\t<tr><th scope=row>61322</th><td>61323                 </td><td>Kuala Lumpur, Malaysia</td><td>2016-01-01            </td><td>100                   </td><td>24                    </td><td>76                    </td><td>4                     </td><td>6                     </td><td>41                    </td><td>NE                    </td><td>⋯                     </td><td>35                    </td><td>27                    </td><td>81                    </td><td>24                    </td><td>76                    </td><td>12                    </td><td>7                     </td><td>27                    </td><td>81                    </td><td>0                     </td></tr>\n",
       "</tbody>\n",
       "</table>\n"
      ],
      "text/latex": [
       "\\begin{tabular}{r|llllllllllllllllllllllllll}\n",
       "  & X & city & date & time & tempC & tempF & windspeedMiles & windspeedKmph & winddirDegree & winddir16Point & ⋯ & cloudcover & HeatIndexC & HeatIndexF & WindChillC & WindChillF & WindGustKmph & WindGustMiles & FeelsLikeC & FeelsLikeF & heavyRain\\\\\n",
       "\\hline\n",
       "\t61321 & 61322                  & Kuala Lumpur, Malaysia & 2016-01-01             &   0                    & 25                     & 78                     & 3                      & 5                      & 36                     & NE                     & ⋯                      & 34                     & 29                     & 84                     & 25                     & 78                     & 11                     & 7                      & 29                     & 84                     & 0                     \\\\\n",
       "\t61322 & 61323                  & Kuala Lumpur, Malaysia & 2016-01-01             & 100                    & 24                     & 76                     & 4                      & 6                      & 41                     & NE                     & ⋯                      & 35                     & 27                     & 81                     & 24                     & 76                     & 12                     & 7                      & 27                     & 81                     & 0                     \\\\\n",
       "\\end{tabular}\n"
      ],
      "text/markdown": [
       "\n",
       "| <!--/--> | X | city | date | time | tempC | tempF | windspeedMiles | windspeedKmph | winddirDegree | winddir16Point | ⋯ | cloudcover | HeatIndexC | HeatIndexF | WindChillC | WindChillF | WindGustKmph | WindGustMiles | FeelsLikeC | FeelsLikeF | heavyRain | \n",
       "|---|---|\n",
       "| 61321 | 61322                  | Kuala Lumpur, Malaysia | 2016-01-01             |   0                    | 25                     | 78                     | 3                      | 5                      | 36                     | NE                     | ⋯                      | 34                     | 29                     | 84                     | 25                     | 78                     | 11                     | 7                      | 29                     | 84                     | 0                      | \n",
       "| 61322 | 61323                  | Kuala Lumpur, Malaysia | 2016-01-01             | 100                    | 24                     | 76                     | 4                      | 6                      | 41                     | NE                     | ⋯                      | 35                     | 27                     | 81                     | 24                     | 76                     | 12                     | 7                      | 27                     | 81                     | 0                      | \n",
       "\n",
       "\n"
      ],
      "text/plain": [
       "      X     city                   date       time tempC tempF windspeedMiles\n",
       "61321 61322 Kuala Lumpur, Malaysia 2016-01-01   0  25    78    3             \n",
       "61322 61323 Kuala Lumpur, Malaysia 2016-01-01 100  24    76    4             \n",
       "      windspeedKmph winddirDegree winddir16Point ⋯ cloudcover HeatIndexC\n",
       "61321 5             36            NE             ⋯ 34         29        \n",
       "61322 6             41            NE             ⋯ 35         27        \n",
       "      HeatIndexF WindChillC WindChillF WindGustKmph WindGustMiles FeelsLikeC\n",
       "61321 84         25         78         11           7             29        \n",
       "61322 81         24         76         12           7             27        \n",
       "      FeelsLikeF heavyRain\n",
       "61321 84         0        \n",
       "61322 81         0        "
      ]
     },
     "metadata": {},
     "output_type": "display_data"
    },
    {
     "name": "stdout",
     "output_type": "stream",
     "text": [
      "[1] \"Test set date tail\"\n"
     ]
    },
    {
     "data": {
      "text/html": [
       "<table>\n",
       "<thead><tr><th></th><th scope=col>X</th><th scope=col>city</th><th scope=col>date</th><th scope=col>time</th><th scope=col>tempC</th><th scope=col>tempF</th><th scope=col>windspeedMiles</th><th scope=col>windspeedKmph</th><th scope=col>winddirDegree</th><th scope=col>winddir16Point</th><th scope=col>⋯</th><th scope=col>cloudcover</th><th scope=col>HeatIndexC</th><th scope=col>HeatIndexF</th><th scope=col>WindChillC</th><th scope=col>WindChillF</th><th scope=col>WindGustKmph</th><th scope=col>WindGustMiles</th><th scope=col>FeelsLikeC</th><th scope=col>FeelsLikeF</th><th scope=col>heavyRain</th></tr></thead>\n",
       "<tbody>\n",
       "\t<tr><th scope=row>70079</th><td>70080                 </td><td>Kuala Lumpur, Malaysia</td><td>2016-12-31            </td><td>2200                  </td><td>27                    </td><td>81                    </td><td>4                     </td><td>6                     </td><td>55                    </td><td>NE                    </td><td>⋯                     </td><td>62                    </td><td>30                    </td><td>85                    </td><td>27                    </td><td>81                    </td><td>10                    </td><td>6                     </td><td>30                    </td><td>85                    </td><td>0                     </td></tr>\n",
       "\t<tr><th scope=row>70080</th><td>70081                 </td><td>Kuala Lumpur, Malaysia</td><td>2016-12-31            </td><td>2300                  </td><td>26                    </td><td>79                    </td><td>4                     </td><td>6                     </td><td>57                    </td><td>ENE                   </td><td>⋯                     </td><td>57                    </td><td>28                    </td><td>83                    </td><td>26                    </td><td>79                    </td><td>12                    </td><td>7                     </td><td>28                    </td><td>83                    </td><td>0                     </td></tr>\n",
       "</tbody>\n",
       "</table>\n"
      ],
      "text/latex": [
       "\\begin{tabular}{r|llllllllllllllllllllllllll}\n",
       "  & X & city & date & time & tempC & tempF & windspeedMiles & windspeedKmph & winddirDegree & winddir16Point & ⋯ & cloudcover & HeatIndexC & HeatIndexF & WindChillC & WindChillF & WindGustKmph & WindGustMiles & FeelsLikeC & FeelsLikeF & heavyRain\\\\\n",
       "\\hline\n",
       "\t70079 & 70080                  & Kuala Lumpur, Malaysia & 2016-12-31             & 2200                   & 27                     & 81                     & 4                      & 6                      & 55                     & NE                     & ⋯                      & 62                     & 30                     & 85                     & 27                     & 81                     & 10                     & 6                      & 30                     & 85                     & 0                     \\\\\n",
       "\t70080 & 70081                  & Kuala Lumpur, Malaysia & 2016-12-31             & 2300                   & 26                     & 79                     & 4                      & 6                      & 57                     & ENE                    & ⋯                      & 57                     & 28                     & 83                     & 26                     & 79                     & 12                     & 7                      & 28                     & 83                     & 0                     \\\\\n",
       "\\end{tabular}\n"
      ],
      "text/markdown": [
       "\n",
       "| <!--/--> | X | city | date | time | tempC | tempF | windspeedMiles | windspeedKmph | winddirDegree | winddir16Point | ⋯ | cloudcover | HeatIndexC | HeatIndexF | WindChillC | WindChillF | WindGustKmph | WindGustMiles | FeelsLikeC | FeelsLikeF | heavyRain | \n",
       "|---|---|\n",
       "| 70079 | 70080                  | Kuala Lumpur, Malaysia | 2016-12-31             | 2200                   | 27                     | 81                     | 4                      | 6                      | 55                     | NE                     | ⋯                      | 62                     | 30                     | 85                     | 27                     | 81                     | 10                     | 6                      | 30                     | 85                     | 0                      | \n",
       "| 70080 | 70081                  | Kuala Lumpur, Malaysia | 2016-12-31             | 2300                   | 26                     | 79                     | 4                      | 6                      | 57                     | ENE                    | ⋯                      | 57                     | 28                     | 83                     | 26                     | 79                     | 12                     | 7                      | 28                     | 83                     | 0                      | \n",
       "\n",
       "\n"
      ],
      "text/plain": [
       "      X     city                   date       time tempC tempF windspeedMiles\n",
       "70079 70080 Kuala Lumpur, Malaysia 2016-12-31 2200 27    81    4             \n",
       "70080 70081 Kuala Lumpur, Malaysia 2016-12-31 2300 26    79    4             \n",
       "      windspeedKmph winddirDegree winddir16Point ⋯ cloudcover HeatIndexC\n",
       "70079 6             55            NE             ⋯ 62         30        \n",
       "70080 6             57            ENE            ⋯ 57         28        \n",
       "      HeatIndexF WindChillC WindChillF WindGustKmph WindGustMiles FeelsLikeC\n",
       "70079 85         27         81         10           6             30        \n",
       "70080 83         26         79         12           7             28        \n",
       "      FeelsLikeF heavyRain\n",
       "70079 85         0        \n",
       "70080 83         0        "
      ]
     },
     "metadata": {},
     "output_type": "display_data"
    }
   ],
   "source": [
    "print(\"Train set date head\")\n",
    "head(train_set,2)\n",
    "print(\"Train set date tail\")\n",
    "tail(train_set,2)\n",
    "print(\"Test set date head\")\n",
    "head(test_set,2)\n",
    "print(\"Test set date tail\")\n",
    "tail(test_set,2)"
   ]
  },
  {
   "cell_type": "code",
   "execution_count": 210,
   "metadata": {
    "scrolled": false
   },
   "outputs": [
    {
     "data": {
      "text/html": [
       "<table>\n",
       "<thead><tr><th></th><th scope=col>X</th><th scope=col>city</th><th scope=col>date</th><th scope=col>time</th><th scope=col>tempC</th><th scope=col>tempF</th><th scope=col>windspeedMiles</th><th scope=col>windspeedKmph</th><th scope=col>winddirDegree</th><th scope=col>winddir16Point</th><th scope=col>⋯</th><th scope=col>cloudcover</th><th scope=col>HeatIndexC</th><th scope=col>HeatIndexF</th><th scope=col>WindChillC</th><th scope=col>WindChillF</th><th scope=col>WindGustKmph</th><th scope=col>WindGustMiles</th><th scope=col>FeelsLikeC</th><th scope=col>FeelsLikeF</th><th scope=col>heavyRain</th></tr></thead>\n",
       "<tbody>\n",
       "\t<tr><th scope=row>69291</th><td>69292                 </td><td>Kuala Lumpur, Malaysia</td><td>2016-11-29            </td><td>200                   </td><td>24                    </td><td>74                    </td><td>1                     </td><td>2                     </td><td>121                   </td><td>ESE                   </td><td>⋯                     </td><td>100                   </td><td>26                    </td><td>79                    </td><td>24                    </td><td>74                    </td><td>4                     </td><td>3                     </td><td>26                    </td><td>79                    </td><td>1                     </td></tr>\n",
       "\t<tr><th scope=row>69292</th><td>69293                 </td><td>Kuala Lumpur, Malaysia</td><td>2016-11-29            </td><td>300                   </td><td>23                    </td><td>74                    </td><td>1                     </td><td>2                     </td><td>136                   </td><td>SE                    </td><td>⋯                     </td><td>100                   </td><td>26                    </td><td>78                    </td><td>23                    </td><td>74                    </td><td>5                     </td><td>3                     </td><td>26                    </td><td>78                    </td><td>1                     </td></tr>\n",
       "\t<tr><th scope=row>69293</th><td>69294                 </td><td>Kuala Lumpur, Malaysia</td><td>2016-11-29            </td><td>400                   </td><td>23                    </td><td>74                    </td><td>1                     </td><td>2                     </td><td>127                   </td><td>SE                    </td><td>⋯                     </td><td>100                   </td><td>26                    </td><td>78                    </td><td>23                    </td><td>74                    </td><td>5                     </td><td>3                     </td><td>26                    </td><td>78                    </td><td>1                     </td></tr>\n",
       "</tbody>\n",
       "</table>\n"
      ],
      "text/latex": [
       "\\begin{tabular}{r|llllllllllllllllllllllllll}\n",
       "  & X & city & date & time & tempC & tempF & windspeedMiles & windspeedKmph & winddirDegree & winddir16Point & ⋯ & cloudcover & HeatIndexC & HeatIndexF & WindChillC & WindChillF & WindGustKmph & WindGustMiles & FeelsLikeC & FeelsLikeF & heavyRain\\\\\n",
       "\\hline\n",
       "\t69291 & 69292                  & Kuala Lumpur, Malaysia & 2016-11-29             & 200                    & 24                     & 74                     & 1                      & 2                      & 121                    & ESE                    & ⋯                      & 100                    & 26                     & 79                     & 24                     & 74                     & 4                      & 3                      & 26                     & 79                     & 1                     \\\\\n",
       "\t69292 & 69293                  & Kuala Lumpur, Malaysia & 2016-11-29             & 300                    & 23                     & 74                     & 1                      & 2                      & 136                    & SE                     & ⋯                      & 100                    & 26                     & 78                     & 23                     & 74                     & 5                      & 3                      & 26                     & 78                     & 1                     \\\\\n",
       "\t69293 & 69294                  & Kuala Lumpur, Malaysia & 2016-11-29             & 400                    & 23                     & 74                     & 1                      & 2                      & 127                    & SE                     & ⋯                      & 100                    & 26                     & 78                     & 23                     & 74                     & 5                      & 3                      & 26                     & 78                     & 1                     \\\\\n",
       "\\end{tabular}\n"
      ],
      "text/markdown": [
       "\n",
       "| <!--/--> | X | city | date | time | tempC | tempF | windspeedMiles | windspeedKmph | winddirDegree | winddir16Point | ⋯ | cloudcover | HeatIndexC | HeatIndexF | WindChillC | WindChillF | WindGustKmph | WindGustMiles | FeelsLikeC | FeelsLikeF | heavyRain | \n",
       "|---|---|---|\n",
       "| 69291 | 69292                  | Kuala Lumpur, Malaysia | 2016-11-29             | 200                    | 24                     | 74                     | 1                      | 2                      | 121                    | ESE                    | ⋯                      | 100                    | 26                     | 79                     | 24                     | 74                     | 4                      | 3                      | 26                     | 79                     | 1                      | \n",
       "| 69292 | 69293                  | Kuala Lumpur, Malaysia | 2016-11-29             | 300                    | 23                     | 74                     | 1                      | 2                      | 136                    | SE                     | ⋯                      | 100                    | 26                     | 78                     | 23                     | 74                     | 5                      | 3                      | 26                     | 78                     | 1                      | \n",
       "| 69293 | 69294                  | Kuala Lumpur, Malaysia | 2016-11-29             | 400                    | 23                     | 74                     | 1                      | 2                      | 127                    | SE                     | ⋯                      | 100                    | 26                     | 78                     | 23                     | 74                     | 5                      | 3                      | 26                     | 78                     | 1                      | \n",
       "\n",
       "\n"
      ],
      "text/plain": [
       "      X     city                   date       time tempC tempF windspeedMiles\n",
       "69291 69292 Kuala Lumpur, Malaysia 2016-11-29 200  24    74    1             \n",
       "69292 69293 Kuala Lumpur, Malaysia 2016-11-29 300  23    74    1             \n",
       "69293 69294 Kuala Lumpur, Malaysia 2016-11-29 400  23    74    1             \n",
       "      windspeedKmph winddirDegree winddir16Point ⋯ cloudcover HeatIndexC\n",
       "69291 2             121           ESE            ⋯ 100        26        \n",
       "69292 2             136           SE             ⋯ 100        26        \n",
       "69293 2             127           SE             ⋯ 100        26        \n",
       "      HeatIndexF WindChillC WindChillF WindGustKmph WindGustMiles FeelsLikeC\n",
       "69291 79         24         74         4            3             26        \n",
       "69292 78         23         74         5            3             26        \n",
       "69293 78         23         74         5            3             26        \n",
       "      FeelsLikeF heavyRain\n",
       "69291 79         1        \n",
       "69292 78         1        \n",
       "69293 78         1        "
      ]
     },
     "metadata": {},
     "output_type": "display_data"
    }
   ],
   "source": [
    "test_set[test_set$weatherDescValue=='Heavy rain' ,]"
   ]
  },
  {
   "cell_type": "code",
   "execution_count": 215,
   "metadata": {
    "scrolled": true
   },
   "outputs": [
    {
     "data": {
      "text/html": [
       "<ol class=list-inline>\n",
       "\t<li>'X'</li>\n",
       "\t<li>'city'</li>\n",
       "\t<li>'date'</li>\n",
       "\t<li>'time'</li>\n",
       "\t<li>'tempC'</li>\n",
       "\t<li>'tempF'</li>\n",
       "\t<li>'windspeedMiles'</li>\n",
       "\t<li>'windspeedKmph'</li>\n",
       "\t<li>'winddirDegree'</li>\n",
       "\t<li>'winddir16Point'</li>\n",
       "\t<li>'weatherCode'</li>\n",
       "\t<li>'weatherDescValue'</li>\n",
       "\t<li>'precipMM'</li>\n",
       "\t<li>'humidity'</li>\n",
       "\t<li>'visibility'</li>\n",
       "\t<li>'pressure'</li>\n",
       "\t<li>'cloudcover'</li>\n",
       "\t<li>'HeatIndexC'</li>\n",
       "\t<li>'HeatIndexF'</li>\n",
       "\t<li>'WindChillC'</li>\n",
       "\t<li>'WindChillF'</li>\n",
       "\t<li>'WindGustKmph'</li>\n",
       "\t<li>'WindGustMiles'</li>\n",
       "\t<li>'FeelsLikeC'</li>\n",
       "\t<li>'FeelsLikeF'</li>\n",
       "\t<li>'heavyRain'</li>\n",
       "</ol>\n"
      ],
      "text/latex": [
       "\\begin{enumerate*}\n",
       "\\item 'X'\n",
       "\\item 'city'\n",
       "\\item 'date'\n",
       "\\item 'time'\n",
       "\\item 'tempC'\n",
       "\\item 'tempF'\n",
       "\\item 'windspeedMiles'\n",
       "\\item 'windspeedKmph'\n",
       "\\item 'winddirDegree'\n",
       "\\item 'winddir16Point'\n",
       "\\item 'weatherCode'\n",
       "\\item 'weatherDescValue'\n",
       "\\item 'precipMM'\n",
       "\\item 'humidity'\n",
       "\\item 'visibility'\n",
       "\\item 'pressure'\n",
       "\\item 'cloudcover'\n",
       "\\item 'HeatIndexC'\n",
       "\\item 'HeatIndexF'\n",
       "\\item 'WindChillC'\n",
       "\\item 'WindChillF'\n",
       "\\item 'WindGustKmph'\n",
       "\\item 'WindGustMiles'\n",
       "\\item 'FeelsLikeC'\n",
       "\\item 'FeelsLikeF'\n",
       "\\item 'heavyRain'\n",
       "\\end{enumerate*}\n"
      ],
      "text/markdown": [
       "1. 'X'\n",
       "2. 'city'\n",
       "3. 'date'\n",
       "4. 'time'\n",
       "5. 'tempC'\n",
       "6. 'tempF'\n",
       "7. 'windspeedMiles'\n",
       "8. 'windspeedKmph'\n",
       "9. 'winddirDegree'\n",
       "10. 'winddir16Point'\n",
       "11. 'weatherCode'\n",
       "12. 'weatherDescValue'\n",
       "13. 'precipMM'\n",
       "14. 'humidity'\n",
       "15. 'visibility'\n",
       "16. 'pressure'\n",
       "17. 'cloudcover'\n",
       "18. 'HeatIndexC'\n",
       "19. 'HeatIndexF'\n",
       "20. 'WindChillC'\n",
       "21. 'WindChillF'\n",
       "22. 'WindGustKmph'\n",
       "23. 'WindGustMiles'\n",
       "24. 'FeelsLikeC'\n",
       "25. 'FeelsLikeF'\n",
       "26. 'heavyRain'\n",
       "\n",
       "\n"
      ],
      "text/plain": [
       " [1] \"X\"                \"city\"             \"date\"             \"time\"            \n",
       " [5] \"tempC\"            \"tempF\"            \"windspeedMiles\"   \"windspeedKmph\"   \n",
       " [9] \"winddirDegree\"    \"winddir16Point\"   \"weatherCode\"      \"weatherDescValue\"\n",
       "[13] \"precipMM\"         \"humidity\"         \"visibility\"       \"pressure\"        \n",
       "[17] \"cloudcover\"       \"HeatIndexC\"       \"HeatIndexF\"       \"WindChillC\"      \n",
       "[21] \"WindChillF\"       \"WindGustKmph\"     \"WindGustMiles\"    \"FeelsLikeC\"      \n",
       "[25] \"FeelsLikeF\"       \"heavyRain\"       "
      ]
     },
     "metadata": {},
     "output_type": "display_data"
    }
   ],
   "source": [
    "colnames(train_set)"
   ]
  },
  {
   "cell_type": "markdown",
   "metadata": {},
   "source": [
    "<font size=\"+2\" style=\"color:Blue\">Step 5: Dummy Variables to improve the model </font>"
   ]
  },
  {
   "cell_type": "code",
   "execution_count": 216,
   "metadata": {
    "scrolled": true
   },
   "outputs": [
    {
     "data": {
      "text/html": [
       "<ol class=list-inline>\n",
       "\t<li>'X'</li>\n",
       "\t<li>'city'</li>\n",
       "\t<li>'date'</li>\n",
       "\t<li>'time'</li>\n",
       "\t<li>'tempC'</li>\n",
       "\t<li>'tempF'</li>\n",
       "\t<li>'windspeedMiles'</li>\n",
       "\t<li>'windspeedKmph'</li>\n",
       "\t<li>'winddirDegree'</li>\n",
       "\t<li>'winddir16Point'</li>\n",
       "\t<li>'weatherCode'</li>\n",
       "\t<li>'weatherDescValue'</li>\n",
       "\t<li>'precipMM'</li>\n",
       "\t<li>'humidity'</li>\n",
       "\t<li>'visibility'</li>\n",
       "\t<li>'pressure'</li>\n",
       "\t<li>'cloudcover'</li>\n",
       "\t<li>'HeatIndexC'</li>\n",
       "\t<li>'HeatIndexF'</li>\n",
       "\t<li>'WindChillC'</li>\n",
       "\t<li>'WindChillF'</li>\n",
       "\t<li>'WindGustKmph'</li>\n",
       "\t<li>'WindGustMiles'</li>\n",
       "\t<li>'FeelsLikeC'</li>\n",
       "\t<li>'FeelsLikeF'</li>\n",
       "\t<li>'heavyRain'</li>\n",
       "\t<li>'NA0'</li>\n",
       "\t<li>'NA100'</li>\n",
       "\t<li>'NA200'</li>\n",
       "\t<li>'NA300'</li>\n",
       "\t<li>'NA400'</li>\n",
       "\t<li>'NA500'</li>\n",
       "\t<li>'NA600'</li>\n",
       "\t<li>'NA700'</li>\n",
       "\t<li>'NA800'</li>\n",
       "\t<li>'NA900'</li>\n",
       "\t<li>'NA1000'</li>\n",
       "\t<li>'NA1100'</li>\n",
       "\t<li>'NA1200'</li>\n",
       "\t<li>'NA1300'</li>\n",
       "\t<li>'NA1400'</li>\n",
       "\t<li>'NA1500'</li>\n",
       "\t<li>'NA1600'</li>\n",
       "\t<li>'NA1700'</li>\n",
       "\t<li>'NA1800'</li>\n",
       "\t<li>'NA1900'</li>\n",
       "\t<li>'NA2000'</li>\n",
       "\t<li>'NA2100'</li>\n",
       "\t<li>'NA2200'</li>\n",
       "\t<li>'NA2300'</li>\n",
       "</ol>\n"
      ],
      "text/latex": [
       "\\begin{enumerate*}\n",
       "\\item 'X'\n",
       "\\item 'city'\n",
       "\\item 'date'\n",
       "\\item 'time'\n",
       "\\item 'tempC'\n",
       "\\item 'tempF'\n",
       "\\item 'windspeedMiles'\n",
       "\\item 'windspeedKmph'\n",
       "\\item 'winddirDegree'\n",
       "\\item 'winddir16Point'\n",
       "\\item 'weatherCode'\n",
       "\\item 'weatherDescValue'\n",
       "\\item 'precipMM'\n",
       "\\item 'humidity'\n",
       "\\item 'visibility'\n",
       "\\item 'pressure'\n",
       "\\item 'cloudcover'\n",
       "\\item 'HeatIndexC'\n",
       "\\item 'HeatIndexF'\n",
       "\\item 'WindChillC'\n",
       "\\item 'WindChillF'\n",
       "\\item 'WindGustKmph'\n",
       "\\item 'WindGustMiles'\n",
       "\\item 'FeelsLikeC'\n",
       "\\item 'FeelsLikeF'\n",
       "\\item 'heavyRain'\n",
       "\\item 'NA0'\n",
       "\\item 'NA100'\n",
       "\\item 'NA200'\n",
       "\\item 'NA300'\n",
       "\\item 'NA400'\n",
       "\\item 'NA500'\n",
       "\\item 'NA600'\n",
       "\\item 'NA700'\n",
       "\\item 'NA800'\n",
       "\\item 'NA900'\n",
       "\\item 'NA1000'\n",
       "\\item 'NA1100'\n",
       "\\item 'NA1200'\n",
       "\\item 'NA1300'\n",
       "\\item 'NA1400'\n",
       "\\item 'NA1500'\n",
       "\\item 'NA1600'\n",
       "\\item 'NA1700'\n",
       "\\item 'NA1800'\n",
       "\\item 'NA1900'\n",
       "\\item 'NA2000'\n",
       "\\item 'NA2100'\n",
       "\\item 'NA2200'\n",
       "\\item 'NA2300'\n",
       "\\end{enumerate*}\n"
      ],
      "text/markdown": [
       "1. 'X'\n",
       "2. 'city'\n",
       "3. 'date'\n",
       "4. 'time'\n",
       "5. 'tempC'\n",
       "6. 'tempF'\n",
       "7. 'windspeedMiles'\n",
       "8. 'windspeedKmph'\n",
       "9. 'winddirDegree'\n",
       "10. 'winddir16Point'\n",
       "11. 'weatherCode'\n",
       "12. 'weatherDescValue'\n",
       "13. 'precipMM'\n",
       "14. 'humidity'\n",
       "15. 'visibility'\n",
       "16. 'pressure'\n",
       "17. 'cloudcover'\n",
       "18. 'HeatIndexC'\n",
       "19. 'HeatIndexF'\n",
       "20. 'WindChillC'\n",
       "21. 'WindChillF'\n",
       "22. 'WindGustKmph'\n",
       "23. 'WindGustMiles'\n",
       "24. 'FeelsLikeC'\n",
       "25. 'FeelsLikeF'\n",
       "26. 'heavyRain'\n",
       "27. 'NA0'\n",
       "28. 'NA100'\n",
       "29. 'NA200'\n",
       "30. 'NA300'\n",
       "31. 'NA400'\n",
       "32. 'NA500'\n",
       "33. 'NA600'\n",
       "34. 'NA700'\n",
       "35. 'NA800'\n",
       "36. 'NA900'\n",
       "37. 'NA1000'\n",
       "38. 'NA1100'\n",
       "39. 'NA1200'\n",
       "40. 'NA1300'\n",
       "41. 'NA1400'\n",
       "42. 'NA1500'\n",
       "43. 'NA1600'\n",
       "44. 'NA1700'\n",
       "45. 'NA1800'\n",
       "46. 'NA1900'\n",
       "47. 'NA2000'\n",
       "48. 'NA2100'\n",
       "49. 'NA2200'\n",
       "50. 'NA2300'\n",
       "\n",
       "\n"
      ],
      "text/plain": [
       " [1] \"X\"                \"city\"             \"date\"             \"time\"            \n",
       " [5] \"tempC\"            \"tempF\"            \"windspeedMiles\"   \"windspeedKmph\"   \n",
       " [9] \"winddirDegree\"    \"winddir16Point\"   \"weatherCode\"      \"weatherDescValue\"\n",
       "[13] \"precipMM\"         \"humidity\"         \"visibility\"       \"pressure\"        \n",
       "[17] \"cloudcover\"       \"HeatIndexC\"       \"HeatIndexF\"       \"WindChillC\"      \n",
       "[21] \"WindChillF\"       \"WindGustKmph\"     \"WindGustMiles\"    \"FeelsLikeC\"      \n",
       "[25] \"FeelsLikeF\"       \"heavyRain\"        \"NA0\"              \"NA100\"           \n",
       "[29] \"NA200\"            \"NA300\"            \"NA400\"            \"NA500\"           \n",
       "[33] \"NA600\"            \"NA700\"            \"NA800\"            \"NA900\"           \n",
       "[37] \"NA1000\"           \"NA1100\"           \"NA1200\"           \"NA1300\"          \n",
       "[41] \"NA1400\"           \"NA1500\"           \"NA1600\"           \"NA1700\"          \n",
       "[45] \"NA1800\"           \"NA1900\"           \"NA2000\"           \"NA2100\"          \n",
       "[49] \"NA2200\"           \"NA2300\"          "
      ]
     },
     "metadata": {},
     "output_type": "display_data"
    },
    {
     "data": {
      "text/html": [
       "<ol class=list-inline>\n",
       "\t<li>'X'</li>\n",
       "\t<li>'city'</li>\n",
       "\t<li>'date'</li>\n",
       "\t<li>'time'</li>\n",
       "\t<li>'tempC'</li>\n",
       "\t<li>'tempF'</li>\n",
       "\t<li>'windspeedMiles'</li>\n",
       "\t<li>'windspeedKmph'</li>\n",
       "\t<li>'winddirDegree'</li>\n",
       "\t<li>'winddir16Point'</li>\n",
       "\t<li>'weatherCode'</li>\n",
       "\t<li>'weatherDescValue'</li>\n",
       "\t<li>'precipMM'</li>\n",
       "\t<li>'humidity'</li>\n",
       "\t<li>'visibility'</li>\n",
       "\t<li>'pressure'</li>\n",
       "\t<li>'cloudcover'</li>\n",
       "\t<li>'HeatIndexC'</li>\n",
       "\t<li>'HeatIndexF'</li>\n",
       "\t<li>'WindChillC'</li>\n",
       "\t<li>'WindChillF'</li>\n",
       "\t<li>'WindGustKmph'</li>\n",
       "\t<li>'WindGustMiles'</li>\n",
       "\t<li>'FeelsLikeC'</li>\n",
       "\t<li>'FeelsLikeF'</li>\n",
       "\t<li>'heavyRain'</li>\n",
       "\t<li>'NA0'</li>\n",
       "\t<li>'NA100'</li>\n",
       "\t<li>'NA200'</li>\n",
       "\t<li>'NA300'</li>\n",
       "\t<li>'NA400'</li>\n",
       "\t<li>'NA500'</li>\n",
       "\t<li>'NA600'</li>\n",
       "\t<li>'NA700'</li>\n",
       "\t<li>'NA800'</li>\n",
       "\t<li>'NA900'</li>\n",
       "\t<li>'NA1000'</li>\n",
       "\t<li>'NA1100'</li>\n",
       "\t<li>'NA1200'</li>\n",
       "\t<li>'NA1300'</li>\n",
       "\t<li>'NA1400'</li>\n",
       "\t<li>'NA1500'</li>\n",
       "\t<li>'NA1600'</li>\n",
       "\t<li>'NA1700'</li>\n",
       "\t<li>'NA1800'</li>\n",
       "\t<li>'NA1900'</li>\n",
       "\t<li>'NA2000'</li>\n",
       "\t<li>'NA2100'</li>\n",
       "\t<li>'NA2200'</li>\n",
       "\t<li>'NA2300'</li>\n",
       "</ol>\n"
      ],
      "text/latex": [
       "\\begin{enumerate*}\n",
       "\\item 'X'\n",
       "\\item 'city'\n",
       "\\item 'date'\n",
       "\\item 'time'\n",
       "\\item 'tempC'\n",
       "\\item 'tempF'\n",
       "\\item 'windspeedMiles'\n",
       "\\item 'windspeedKmph'\n",
       "\\item 'winddirDegree'\n",
       "\\item 'winddir16Point'\n",
       "\\item 'weatherCode'\n",
       "\\item 'weatherDescValue'\n",
       "\\item 'precipMM'\n",
       "\\item 'humidity'\n",
       "\\item 'visibility'\n",
       "\\item 'pressure'\n",
       "\\item 'cloudcover'\n",
       "\\item 'HeatIndexC'\n",
       "\\item 'HeatIndexF'\n",
       "\\item 'WindChillC'\n",
       "\\item 'WindChillF'\n",
       "\\item 'WindGustKmph'\n",
       "\\item 'WindGustMiles'\n",
       "\\item 'FeelsLikeC'\n",
       "\\item 'FeelsLikeF'\n",
       "\\item 'heavyRain'\n",
       "\\item 'NA0'\n",
       "\\item 'NA100'\n",
       "\\item 'NA200'\n",
       "\\item 'NA300'\n",
       "\\item 'NA400'\n",
       "\\item 'NA500'\n",
       "\\item 'NA600'\n",
       "\\item 'NA700'\n",
       "\\item 'NA800'\n",
       "\\item 'NA900'\n",
       "\\item 'NA1000'\n",
       "\\item 'NA1100'\n",
       "\\item 'NA1200'\n",
       "\\item 'NA1300'\n",
       "\\item 'NA1400'\n",
       "\\item 'NA1500'\n",
       "\\item 'NA1600'\n",
       "\\item 'NA1700'\n",
       "\\item 'NA1800'\n",
       "\\item 'NA1900'\n",
       "\\item 'NA2000'\n",
       "\\item 'NA2100'\n",
       "\\item 'NA2200'\n",
       "\\item 'NA2300'\n",
       "\\end{enumerate*}\n"
      ],
      "text/markdown": [
       "1. 'X'\n",
       "2. 'city'\n",
       "3. 'date'\n",
       "4. 'time'\n",
       "5. 'tempC'\n",
       "6. 'tempF'\n",
       "7. 'windspeedMiles'\n",
       "8. 'windspeedKmph'\n",
       "9. 'winddirDegree'\n",
       "10. 'winddir16Point'\n",
       "11. 'weatherCode'\n",
       "12. 'weatherDescValue'\n",
       "13. 'precipMM'\n",
       "14. 'humidity'\n",
       "15. 'visibility'\n",
       "16. 'pressure'\n",
       "17. 'cloudcover'\n",
       "18. 'HeatIndexC'\n",
       "19. 'HeatIndexF'\n",
       "20. 'WindChillC'\n",
       "21. 'WindChillF'\n",
       "22. 'WindGustKmph'\n",
       "23. 'WindGustMiles'\n",
       "24. 'FeelsLikeC'\n",
       "25. 'FeelsLikeF'\n",
       "26. 'heavyRain'\n",
       "27. 'NA0'\n",
       "28. 'NA100'\n",
       "29. 'NA200'\n",
       "30. 'NA300'\n",
       "31. 'NA400'\n",
       "32. 'NA500'\n",
       "33. 'NA600'\n",
       "34. 'NA700'\n",
       "35. 'NA800'\n",
       "36. 'NA900'\n",
       "37. 'NA1000'\n",
       "38. 'NA1100'\n",
       "39. 'NA1200'\n",
       "40. 'NA1300'\n",
       "41. 'NA1400'\n",
       "42. 'NA1500'\n",
       "43. 'NA1600'\n",
       "44. 'NA1700'\n",
       "45. 'NA1800'\n",
       "46. 'NA1900'\n",
       "47. 'NA2000'\n",
       "48. 'NA2100'\n",
       "49. 'NA2200'\n",
       "50. 'NA2300'\n",
       "\n",
       "\n"
      ],
      "text/plain": [
       " [1] \"X\"                \"city\"             \"date\"             \"time\"            \n",
       " [5] \"tempC\"            \"tempF\"            \"windspeedMiles\"   \"windspeedKmph\"   \n",
       " [9] \"winddirDegree\"    \"winddir16Point\"   \"weatherCode\"      \"weatherDescValue\"\n",
       "[13] \"precipMM\"         \"humidity\"         \"visibility\"       \"pressure\"        \n",
       "[17] \"cloudcover\"       \"HeatIndexC\"       \"HeatIndexF\"       \"WindChillC\"      \n",
       "[21] \"WindChillF\"       \"WindGustKmph\"     \"WindGustMiles\"    \"FeelsLikeC\"      \n",
       "[25] \"FeelsLikeF\"       \"heavyRain\"        \"NA0\"              \"NA100\"           \n",
       "[29] \"NA200\"            \"NA300\"            \"NA400\"            \"NA500\"           \n",
       "[33] \"NA600\"            \"NA700\"            \"NA800\"            \"NA900\"           \n",
       "[37] \"NA1000\"           \"NA1100\"           \"NA1200\"           \"NA1300\"          \n",
       "[41] \"NA1400\"           \"NA1500\"           \"NA1600\"           \"NA1700\"          \n",
       "[45] \"NA1800\"           \"NA1900\"           \"NA2000\"           \"NA2100\"          \n",
       "[49] \"NA2200\"           \"NA2300\"          "
      ]
     },
     "metadata": {},
     "output_type": "display_data"
    }
   ],
   "source": [
    "library(dummies)\n",
    "\n",
    "train_set1 = cbind(train_set, dummy((train_set$time)))\n",
    "\n",
    "colnames(train_set1)\n",
    "\n",
    "\n",
    "\n",
    "test_set1 = cbind(test_set, dummy((test_set$time)))\n",
    "colnames(test_set1)\n",
    "\n",
    "\n"
   ]
  },
  {
   "cell_type": "code",
   "execution_count": 217,
   "metadata": {
    "collapsed": true,
    "scrolled": true
   },
   "outputs": [],
   "source": [
    "colnames(train_set1)[grep(\"^N\", colnames(train_set1))] <- c(\"AM12\", \"AM01\",\"AM02\",\"AM03\", \"AM04\", \"AM05\", \"AM06\", \"AM07\", \"AM08\", \"AM09\", \"AM10\", \"AM11\", \"PM12\", \"PM01\", \"PM02\", \"PM03\", \"PM04\", \"PM05\", \"PM06\", \"PM07\", \"PM08\", \"PM09\",\"PM10\", \"PM11\")\n",
    "colnames(test_set1)[grep(\"^N\", colnames(test_set1))] <- c(\"AM12\", \"AM01\",\"AM02\",\"AM03\", \"AM04\", \"AM05\", \"AM06\", \"AM07\", \"AM08\", \"AM09\", \"AM10\", \"AM11\", \"PM12\", \"PM01\", \"PM02\", \"PM03\", \"PM04\", \"PM05\", \"PM06\", \"PM07\", \"PM08\", \"PM09\",\"PM10\", \"PM11\")\n",
    "\n",
    "\n",
    "\n"
   ]
  },
  {
   "cell_type": "code",
   "execution_count": 218,
   "metadata": {
    "scrolled": false
   },
   "outputs": [
    {
     "data": {
      "text/html": [
       "<ol class=list-inline>\n",
       "\t<li>'X'</li>\n",
       "\t<li>'city'</li>\n",
       "\t<li>'date'</li>\n",
       "\t<li>'time'</li>\n",
       "\t<li>'tempC'</li>\n",
       "\t<li>'tempF'</li>\n",
       "\t<li>'windspeedMiles'</li>\n",
       "\t<li>'windspeedKmph'</li>\n",
       "\t<li>'winddirDegree'</li>\n",
       "\t<li>'winddir16Point'</li>\n",
       "\t<li>'weatherCode'</li>\n",
       "\t<li>'weatherDescValue'</li>\n",
       "\t<li>'precipMM'</li>\n",
       "\t<li>'humidity'</li>\n",
       "\t<li>'visibility'</li>\n",
       "\t<li>'pressure'</li>\n",
       "\t<li>'cloudcover'</li>\n",
       "\t<li>'HeatIndexC'</li>\n",
       "\t<li>'HeatIndexF'</li>\n",
       "\t<li>'WindChillC'</li>\n",
       "\t<li>'WindChillF'</li>\n",
       "\t<li>'WindGustKmph'</li>\n",
       "\t<li>'WindGustMiles'</li>\n",
       "\t<li>'FeelsLikeC'</li>\n",
       "\t<li>'FeelsLikeF'</li>\n",
       "\t<li>'heavyRain'</li>\n",
       "\t<li>'AM12'</li>\n",
       "\t<li>'AM01'</li>\n",
       "\t<li>'AM02'</li>\n",
       "\t<li>'AM03'</li>\n",
       "\t<li>'AM04'</li>\n",
       "\t<li>'AM05'</li>\n",
       "\t<li>'AM06'</li>\n",
       "\t<li>'AM07'</li>\n",
       "\t<li>'AM08'</li>\n",
       "\t<li>'AM09'</li>\n",
       "\t<li>'AM10'</li>\n",
       "\t<li>'AM11'</li>\n",
       "\t<li>'PM12'</li>\n",
       "\t<li>'PM01'</li>\n",
       "\t<li>'PM02'</li>\n",
       "\t<li>'PM03'</li>\n",
       "\t<li>'PM04'</li>\n",
       "\t<li>'PM05'</li>\n",
       "\t<li>'PM06'</li>\n",
       "\t<li>'PM07'</li>\n",
       "\t<li>'PM08'</li>\n",
       "\t<li>'PM09'</li>\n",
       "\t<li>'PM10'</li>\n",
       "\t<li>'PM11'</li>\n",
       "</ol>\n"
      ],
      "text/latex": [
       "\\begin{enumerate*}\n",
       "\\item 'X'\n",
       "\\item 'city'\n",
       "\\item 'date'\n",
       "\\item 'time'\n",
       "\\item 'tempC'\n",
       "\\item 'tempF'\n",
       "\\item 'windspeedMiles'\n",
       "\\item 'windspeedKmph'\n",
       "\\item 'winddirDegree'\n",
       "\\item 'winddir16Point'\n",
       "\\item 'weatherCode'\n",
       "\\item 'weatherDescValue'\n",
       "\\item 'precipMM'\n",
       "\\item 'humidity'\n",
       "\\item 'visibility'\n",
       "\\item 'pressure'\n",
       "\\item 'cloudcover'\n",
       "\\item 'HeatIndexC'\n",
       "\\item 'HeatIndexF'\n",
       "\\item 'WindChillC'\n",
       "\\item 'WindChillF'\n",
       "\\item 'WindGustKmph'\n",
       "\\item 'WindGustMiles'\n",
       "\\item 'FeelsLikeC'\n",
       "\\item 'FeelsLikeF'\n",
       "\\item 'heavyRain'\n",
       "\\item 'AM12'\n",
       "\\item 'AM01'\n",
       "\\item 'AM02'\n",
       "\\item 'AM03'\n",
       "\\item 'AM04'\n",
       "\\item 'AM05'\n",
       "\\item 'AM06'\n",
       "\\item 'AM07'\n",
       "\\item 'AM08'\n",
       "\\item 'AM09'\n",
       "\\item 'AM10'\n",
       "\\item 'AM11'\n",
       "\\item 'PM12'\n",
       "\\item 'PM01'\n",
       "\\item 'PM02'\n",
       "\\item 'PM03'\n",
       "\\item 'PM04'\n",
       "\\item 'PM05'\n",
       "\\item 'PM06'\n",
       "\\item 'PM07'\n",
       "\\item 'PM08'\n",
       "\\item 'PM09'\n",
       "\\item 'PM10'\n",
       "\\item 'PM11'\n",
       "\\end{enumerate*}\n"
      ],
      "text/markdown": [
       "1. 'X'\n",
       "2. 'city'\n",
       "3. 'date'\n",
       "4. 'time'\n",
       "5. 'tempC'\n",
       "6. 'tempF'\n",
       "7. 'windspeedMiles'\n",
       "8. 'windspeedKmph'\n",
       "9. 'winddirDegree'\n",
       "10. 'winddir16Point'\n",
       "11. 'weatherCode'\n",
       "12. 'weatherDescValue'\n",
       "13. 'precipMM'\n",
       "14. 'humidity'\n",
       "15. 'visibility'\n",
       "16. 'pressure'\n",
       "17. 'cloudcover'\n",
       "18. 'HeatIndexC'\n",
       "19. 'HeatIndexF'\n",
       "20. 'WindChillC'\n",
       "21. 'WindChillF'\n",
       "22. 'WindGustKmph'\n",
       "23. 'WindGustMiles'\n",
       "24. 'FeelsLikeC'\n",
       "25. 'FeelsLikeF'\n",
       "26. 'heavyRain'\n",
       "27. 'AM12'\n",
       "28. 'AM01'\n",
       "29. 'AM02'\n",
       "30. 'AM03'\n",
       "31. 'AM04'\n",
       "32. 'AM05'\n",
       "33. 'AM06'\n",
       "34. 'AM07'\n",
       "35. 'AM08'\n",
       "36. 'AM09'\n",
       "37. 'AM10'\n",
       "38. 'AM11'\n",
       "39. 'PM12'\n",
       "40. 'PM01'\n",
       "41. 'PM02'\n",
       "42. 'PM03'\n",
       "43. 'PM04'\n",
       "44. 'PM05'\n",
       "45. 'PM06'\n",
       "46. 'PM07'\n",
       "47. 'PM08'\n",
       "48. 'PM09'\n",
       "49. 'PM10'\n",
       "50. 'PM11'\n",
       "\n",
       "\n"
      ],
      "text/plain": [
       " [1] \"X\"                \"city\"             \"date\"             \"time\"            \n",
       " [5] \"tempC\"            \"tempF\"            \"windspeedMiles\"   \"windspeedKmph\"   \n",
       " [9] \"winddirDegree\"    \"winddir16Point\"   \"weatherCode\"      \"weatherDescValue\"\n",
       "[13] \"precipMM\"         \"humidity\"         \"visibility\"       \"pressure\"        \n",
       "[17] \"cloudcover\"       \"HeatIndexC\"       \"HeatIndexF\"       \"WindChillC\"      \n",
       "[21] \"WindChillF\"       \"WindGustKmph\"     \"WindGustMiles\"    \"FeelsLikeC\"      \n",
       "[25] \"FeelsLikeF\"       \"heavyRain\"        \"AM12\"             \"AM01\"            \n",
       "[29] \"AM02\"             \"AM03\"             \"AM04\"             \"AM05\"            \n",
       "[33] \"AM06\"             \"AM07\"             \"AM08\"             \"AM09\"            \n",
       "[37] \"AM10\"             \"AM11\"             \"PM12\"             \"PM01\"            \n",
       "[41] \"PM02\"             \"PM03\"             \"PM04\"             \"PM05\"            \n",
       "[45] \"PM06\"             \"PM07\"             \"PM08\"             \"PM09\"            \n",
       "[49] \"PM10\"             \"PM11\"            "
      ]
     },
     "metadata": {},
     "output_type": "display_data"
    },
    {
     "data": {
      "text/html": [
       "<ol class=list-inline>\n",
       "\t<li>'X'</li>\n",
       "\t<li>'city'</li>\n",
       "\t<li>'date'</li>\n",
       "\t<li>'time'</li>\n",
       "\t<li>'tempC'</li>\n",
       "\t<li>'tempF'</li>\n",
       "\t<li>'windspeedMiles'</li>\n",
       "\t<li>'windspeedKmph'</li>\n",
       "\t<li>'winddirDegree'</li>\n",
       "\t<li>'winddir16Point'</li>\n",
       "\t<li>'weatherCode'</li>\n",
       "\t<li>'weatherDescValue'</li>\n",
       "\t<li>'precipMM'</li>\n",
       "\t<li>'humidity'</li>\n",
       "\t<li>'visibility'</li>\n",
       "\t<li>'pressure'</li>\n",
       "\t<li>'cloudcover'</li>\n",
       "\t<li>'HeatIndexC'</li>\n",
       "\t<li>'HeatIndexF'</li>\n",
       "\t<li>'WindChillC'</li>\n",
       "\t<li>'WindChillF'</li>\n",
       "\t<li>'WindGustKmph'</li>\n",
       "\t<li>'WindGustMiles'</li>\n",
       "\t<li>'FeelsLikeC'</li>\n",
       "\t<li>'FeelsLikeF'</li>\n",
       "\t<li>'heavyRain'</li>\n",
       "\t<li>'AM12'</li>\n",
       "\t<li>'AM01'</li>\n",
       "\t<li>'AM02'</li>\n",
       "\t<li>'AM03'</li>\n",
       "\t<li>'AM04'</li>\n",
       "\t<li>'AM05'</li>\n",
       "\t<li>'AM06'</li>\n",
       "\t<li>'AM07'</li>\n",
       "\t<li>'AM08'</li>\n",
       "\t<li>'AM09'</li>\n",
       "\t<li>'AM10'</li>\n",
       "\t<li>'AM11'</li>\n",
       "\t<li>'PM12'</li>\n",
       "\t<li>'PM01'</li>\n",
       "\t<li>'PM02'</li>\n",
       "\t<li>'PM03'</li>\n",
       "\t<li>'PM04'</li>\n",
       "\t<li>'PM05'</li>\n",
       "\t<li>'PM06'</li>\n",
       "\t<li>'PM07'</li>\n",
       "\t<li>'PM08'</li>\n",
       "\t<li>'PM09'</li>\n",
       "\t<li>'PM10'</li>\n",
       "\t<li>'PM11'</li>\n",
       "</ol>\n"
      ],
      "text/latex": [
       "\\begin{enumerate*}\n",
       "\\item 'X'\n",
       "\\item 'city'\n",
       "\\item 'date'\n",
       "\\item 'time'\n",
       "\\item 'tempC'\n",
       "\\item 'tempF'\n",
       "\\item 'windspeedMiles'\n",
       "\\item 'windspeedKmph'\n",
       "\\item 'winddirDegree'\n",
       "\\item 'winddir16Point'\n",
       "\\item 'weatherCode'\n",
       "\\item 'weatherDescValue'\n",
       "\\item 'precipMM'\n",
       "\\item 'humidity'\n",
       "\\item 'visibility'\n",
       "\\item 'pressure'\n",
       "\\item 'cloudcover'\n",
       "\\item 'HeatIndexC'\n",
       "\\item 'HeatIndexF'\n",
       "\\item 'WindChillC'\n",
       "\\item 'WindChillF'\n",
       "\\item 'WindGustKmph'\n",
       "\\item 'WindGustMiles'\n",
       "\\item 'FeelsLikeC'\n",
       "\\item 'FeelsLikeF'\n",
       "\\item 'heavyRain'\n",
       "\\item 'AM12'\n",
       "\\item 'AM01'\n",
       "\\item 'AM02'\n",
       "\\item 'AM03'\n",
       "\\item 'AM04'\n",
       "\\item 'AM05'\n",
       "\\item 'AM06'\n",
       "\\item 'AM07'\n",
       "\\item 'AM08'\n",
       "\\item 'AM09'\n",
       "\\item 'AM10'\n",
       "\\item 'AM11'\n",
       "\\item 'PM12'\n",
       "\\item 'PM01'\n",
       "\\item 'PM02'\n",
       "\\item 'PM03'\n",
       "\\item 'PM04'\n",
       "\\item 'PM05'\n",
       "\\item 'PM06'\n",
       "\\item 'PM07'\n",
       "\\item 'PM08'\n",
       "\\item 'PM09'\n",
       "\\item 'PM10'\n",
       "\\item 'PM11'\n",
       "\\end{enumerate*}\n"
      ],
      "text/markdown": [
       "1. 'X'\n",
       "2. 'city'\n",
       "3. 'date'\n",
       "4. 'time'\n",
       "5. 'tempC'\n",
       "6. 'tempF'\n",
       "7. 'windspeedMiles'\n",
       "8. 'windspeedKmph'\n",
       "9. 'winddirDegree'\n",
       "10. 'winddir16Point'\n",
       "11. 'weatherCode'\n",
       "12. 'weatherDescValue'\n",
       "13. 'precipMM'\n",
       "14. 'humidity'\n",
       "15. 'visibility'\n",
       "16. 'pressure'\n",
       "17. 'cloudcover'\n",
       "18. 'HeatIndexC'\n",
       "19. 'HeatIndexF'\n",
       "20. 'WindChillC'\n",
       "21. 'WindChillF'\n",
       "22. 'WindGustKmph'\n",
       "23. 'WindGustMiles'\n",
       "24. 'FeelsLikeC'\n",
       "25. 'FeelsLikeF'\n",
       "26. 'heavyRain'\n",
       "27. 'AM12'\n",
       "28. 'AM01'\n",
       "29. 'AM02'\n",
       "30. 'AM03'\n",
       "31. 'AM04'\n",
       "32. 'AM05'\n",
       "33. 'AM06'\n",
       "34. 'AM07'\n",
       "35. 'AM08'\n",
       "36. 'AM09'\n",
       "37. 'AM10'\n",
       "38. 'AM11'\n",
       "39. 'PM12'\n",
       "40. 'PM01'\n",
       "41. 'PM02'\n",
       "42. 'PM03'\n",
       "43. 'PM04'\n",
       "44. 'PM05'\n",
       "45. 'PM06'\n",
       "46. 'PM07'\n",
       "47. 'PM08'\n",
       "48. 'PM09'\n",
       "49. 'PM10'\n",
       "50. 'PM11'\n",
       "\n",
       "\n"
      ],
      "text/plain": [
       " [1] \"X\"                \"city\"             \"date\"             \"time\"            \n",
       " [5] \"tempC\"            \"tempF\"            \"windspeedMiles\"   \"windspeedKmph\"   \n",
       " [9] \"winddirDegree\"    \"winddir16Point\"   \"weatherCode\"      \"weatherDescValue\"\n",
       "[13] \"precipMM\"         \"humidity\"         \"visibility\"       \"pressure\"        \n",
       "[17] \"cloudcover\"       \"HeatIndexC\"       \"HeatIndexF\"       \"WindChillC\"      \n",
       "[21] \"WindChillF\"       \"WindGustKmph\"     \"WindGustMiles\"    \"FeelsLikeC\"      \n",
       "[25] \"FeelsLikeF\"       \"heavyRain\"        \"AM12\"             \"AM01\"            \n",
       "[29] \"AM02\"             \"AM03\"             \"AM04\"             \"AM05\"            \n",
       "[33] \"AM06\"             \"AM07\"             \"AM08\"             \"AM09\"            \n",
       "[37] \"AM10\"             \"AM11\"             \"PM12\"             \"PM01\"            \n",
       "[41] \"PM02\"             \"PM03\"             \"PM04\"             \"PM05\"            \n",
       "[45] \"PM06\"             \"PM07\"             \"PM08\"             \"PM09\"            \n",
       "[49] \"PM10\"             \"PM11\"            "
      ]
     },
     "metadata": {},
     "output_type": "display_data"
    }
   ],
   "source": [
    "colnames(train_set1)\n",
    "colnames(test_set1)\n"
   ]
  },
  {
   "cell_type": "code",
   "execution_count": null,
   "metadata": {
    "collapsed": true
   },
   "outputs": [],
   "source": [
    "#fit = glm(heavyRain ~ humidity + windspeedKmph+ pressure+tempC + AM12 + AM01 +AM02 +AM03 +AM04+AM05 +AM06+AM07 +AM08+AM09 +AM10+\n",
    "         #  AM11 +PM12 +PM01+ PM02 +PM03 +PM04+PM05 +PM06 +PM07 +PM08 +PM09 +PM10 +PM11,family=binomial, data=train_set1)\n",
    "           \n",
    "#summary(fit)"
   ]
  },
  {
   "cell_type": "code",
   "execution_count": 219,
   "metadata": {},
   "outputs": [
    {
     "data": {
      "text/plain": [
       "\n",
       "Call:\n",
       "glm(formula = heavyRain ~ humidity + windspeedKmph + pressure + \n",
       "    tempC, family = binomial, data = train_set1)\n",
       "\n",
       "Deviance Residuals: \n",
       "    Min       1Q   Median       3Q      Max  \n",
       "-2.3148  -0.4974  -0.3178  -0.1817   3.0260  \n",
       "\n",
       "Coefficients:\n",
       "               Estimate Std. Error z value Pr(>|z|)    \n",
       "(Intercept)   239.77830   12.83850  18.676  < 2e-16 ***\n",
       "humidity        0.17456    0.00376  46.428  < 2e-16 ***\n",
       "windspeedKmph  -0.09446    0.01320  -7.154 8.42e-13 ***\n",
       "pressure       -0.27000    0.01273 -21.206  < 2e-16 ***\n",
       "tempC           0.60961    0.01188  51.332  < 2e-16 ***\n",
       "---\n",
       "Signif. codes:  0 ‘***’ 0.001 ‘**’ 0.01 ‘*’ 0.05 ‘.’ 0.1 ‘ ’ 1\n",
       "\n",
       "(Dispersion parameter for binomial family taken to be 1)\n",
       "\n",
       "    Null deviance: 20345  on 26279  degrees of freedom\n",
       "Residual deviance: 15934  on 26275  degrees of freedom\n",
       "AIC: 15944\n",
       "\n",
       "Number of Fisher Scoring iterations: 6\n"
      ]
     },
     "metadata": {},
     "output_type": "display_data"
    }
   ],
   "source": [
    "fit = glm(heavyRain ~ humidity + windspeedKmph+ pressure+tempC,family=binomial, data=train_set1)\n",
    "           \n",
    "summary(fit)"
   ]
  },
  {
   "cell_type": "code",
   "execution_count": 220,
   "metadata": {},
   "outputs": [
    {
     "data": {
      "text/html": [
       "<dl class=dl-horizontal>\n",
       "\t<dt>61321</dt>\n",
       "\t\t<dd>0.0474019826468977</dd>\n",
       "\t<dt>61322</dt>\n",
       "\t\t<dd>0.0240189806026816</dd>\n",
       "\t<dt>61323</dt>\n",
       "\t\t<dd>0.015678708503337</dd>\n",
       "\t<dt>61324</dt>\n",
       "\t\t<dd>0.00858381856035631</dd>\n",
       "\t<dt>61325</dt>\n",
       "\t\t<dd>0.00858381856035631</dd>\n",
       "\t<dt>61326</dt>\n",
       "\t\t<dd>0.00721886557587317</dd>\n",
       "</dl>\n"
      ],
      "text/latex": [
       "\\begin{description*}\n",
       "\\item[61321] 0.0474019826468977\n",
       "\\item[61322] 0.0240189806026816\n",
       "\\item[61323] 0.015678708503337\n",
       "\\item[61324] 0.00858381856035631\n",
       "\\item[61325] 0.00858381856035631\n",
       "\\item[61326] 0.00721886557587317\n",
       "\\end{description*}\n"
      ],
      "text/markdown": [
       "61321\n",
       ":   0.047401982646897761322\n",
       ":   0.024018980602681661323\n",
       ":   0.01567870850333761324\n",
       ":   0.0085838185603563161325\n",
       ":   0.0085838185603563161326\n",
       ":   0.00721886557587317\n",
       "\n"
      ],
      "text/plain": [
       "      61321       61322       61323       61324       61325       61326 \n",
       "0.047401983 0.024018981 0.015678709 0.008583819 0.008583819 0.007218866 "
      ]
     },
     "metadata": {},
     "output_type": "display_data"
    }
   ],
   "source": [
    "heavyRain_prediction = predict(fit, newdata = test_set1, type='response')\n",
    "head(heavyRain_prediction)"
   ]
  },
  {
   "cell_type": "code",
   "execution_count": 221,
   "metadata": {},
   "outputs": [
    {
     "data": {
      "text/html": [
       "<table>\n",
       "<thead><tr><th></th><th scope=col>real_accepted_value</th><th scope=col>probability</th></tr></thead>\n",
       "<tbody>\n",
       "\t<tr><th scope=row>61321</th><td>0          </td><td>0.047401983</td></tr>\n",
       "\t<tr><th scope=row>61322</th><td>0          </td><td>0.024018981</td></tr>\n",
       "\t<tr><th scope=row>61323</th><td>0          </td><td>0.015678709</td></tr>\n",
       "\t<tr><th scope=row>61324</th><td>0          </td><td>0.008583819</td></tr>\n",
       "\t<tr><th scope=row>61325</th><td>0          </td><td>0.008583819</td></tr>\n",
       "</tbody>\n",
       "</table>\n"
      ],
      "text/latex": [
       "\\begin{tabular}{r|ll}\n",
       "  & real\\_accepted\\_value & probability\\\\\n",
       "\\hline\n",
       "\t61321 & 0           & 0.047401983\\\\\n",
       "\t61322 & 0           & 0.024018981\\\\\n",
       "\t61323 & 0           & 0.015678709\\\\\n",
       "\t61324 & 0           & 0.008583819\\\\\n",
       "\t61325 & 0           & 0.008583819\\\\\n",
       "\\end{tabular}\n"
      ],
      "text/markdown": [
       "\n",
       "| <!--/--> | real_accepted_value | probability | \n",
       "|---|---|---|---|---|\n",
       "| 61321 | 0           | 0.047401983 | \n",
       "| 61322 | 0           | 0.024018981 | \n",
       "| 61323 | 0           | 0.015678709 | \n",
       "| 61324 | 0           | 0.008583819 | \n",
       "| 61325 | 0           | 0.008583819 | \n",
       "\n",
       "\n"
      ],
      "text/plain": [
       "      real_accepted_value probability\n",
       "61321 0                   0.047401983\n",
       "61322 0                   0.024018981\n",
       "61323 0                   0.015678709\n",
       "61324 0                   0.008583819\n",
       "61325 0                   0.008583819"
      ]
     },
     "metadata": {},
     "output_type": "display_data"
    }
   ],
   "source": [
    "heavyRain_prediction_table=cbind(real_accepted_value=test_set$heavyRain,probability=heavyRain_prediction)\n",
    "head(heavyRain_prediction_table,5)"
   ]
  },
  {
   "cell_type": "code",
   "execution_count": 222,
   "metadata": {
    "collapsed": true
   },
   "outputs": [],
   "source": [
    "n = nrow(heavyRain_prediction_table)\n",
    "heavyRain_prediction_table_2 = cbind( heavyRain_prediction_table, rep(FALSE, n))\n",
    "\n",
    "\n",
    "\n",
    "heavyRain_prediction_table_2[,3] = ifelse(heavyRain_prediction > 0.3, 1, 0)\n",
    "colnames(heavyRain_prediction_table_2)[3] = \"prediction\""
   ]
  },
  {
   "cell_type": "code",
   "execution_count": null,
   "metadata": {},
   "outputs": [],
   "source": [
    "head(heavyRain_prediction_table_2,5)"
   ]
  },
  {
   "cell_type": "code",
   "execution_count": 224,
   "metadata": {},
   "outputs": [
    {
     "data": {
      "text/html": [
       "'Condition Positive of test set is 1167'"
      ],
      "text/latex": [
       "'Condition Positive of test set is 1167'"
      ],
      "text/markdown": [
       "'Condition Positive of test set is 1167'"
      ],
      "text/plain": [
       "[1] \"Condition Positive of test set is 1167\""
      ]
     },
     "metadata": {},
     "output_type": "display_data"
    },
    {
     "data": {
      "text/html": [
       "'Condition Negative of test set is 7593'"
      ],
      "text/latex": [
       "'Condition Negative of test set is 7593'"
      ],
      "text/markdown": [
       "'Condition Negative of test set is 7593'"
      ],
      "text/plain": [
       "[1] \"Condition Negative of test set is 7593\""
      ]
     },
     "metadata": {},
     "output_type": "display_data"
    },
    {
     "data": {
      "text/html": [
       "'Total correct prediction of test set is 7081'"
      ],
      "text/latex": [
       "'Total correct prediction of test set is 7081'"
      ],
      "text/markdown": [
       "'Total correct prediction of test set is 7081'"
      ],
      "text/plain": [
       "[1] \"Total correct prediction of test set is 7081\""
      ]
     },
     "metadata": {},
     "output_type": "display_data"
    },
    {
     "data": {
      "text/html": [
       "'Total worng prediction of test set is 1679'"
      ],
      "text/latex": [
       "'Total worng prediction of test set is 1679'"
      ],
      "text/markdown": [
       "'Total worng prediction of test set is 1679'"
      ],
      "text/plain": [
       "[1] \"Total worng prediction of test set is 1679\""
      ]
     },
     "metadata": {},
     "output_type": "display_data"
    },
    {
     "data": {
      "text/html": [
       "'Recall or Sensitivity of test set is 0.506'"
      ],
      "text/latex": [
       "'Recall or Sensitivity of test set is 0.506'"
      ],
      "text/markdown": [
       "'Recall or Sensitivity of test set is 0.506'"
      ],
      "text/plain": [
       "[1] \"Recall or Sensitivity of test set is 0.506\""
      ]
     },
     "metadata": {},
     "output_type": "display_data"
    },
    {
     "data": {
      "text/html": [
       "'Specifity of test set is 0.855'"
      ],
      "text/latex": [
       "'Specifity of test set is 0.855'"
      ],
      "text/markdown": [
       "'Specifity of test set is 0.855'"
      ],
      "text/plain": [
       "[1] \"Specifity of test set is 0.855\""
      ]
     },
     "metadata": {},
     "output_type": "display_data"
    },
    {
     "data": {
      "text/html": [
       "'Precision of test set is 0.349'"
      ],
      "text/latex": [
       "'Precision of test set is 0.349'"
      ],
      "text/markdown": [
       "'Precision of test set is 0.349'"
      ],
      "text/plain": [
       "[1] \"Precision of test set is 0.349\""
      ]
     },
     "metadata": {},
     "output_type": "display_data"
    },
    {
     "data": {
      "text/html": [
       "'Negative predictie value of test set is 0.918'"
      ],
      "text/latex": [
       "'Negative predictie value of test set is 0.918'"
      ],
      "text/markdown": [
       "'Negative predictie value of test set is 0.918'"
      ],
      "text/plain": [
       "[1] \"Negative predictie value of test set is 0.918\""
      ]
     },
     "metadata": {},
     "output_type": "display_data"
    },
    {
     "data": {
      "text/html": [
       "'Accuracy of test set is 0.808'"
      ],
      "text/latex": [
       "'Accuracy of test set is 0.808'"
      ],
      "text/markdown": [
       "'Accuracy of test set is 0.808'"
      ],
      "text/plain": [
       "[1] \"Accuracy of test set is 0.808\""
      ]
     },
     "metadata": {},
     "output_type": "display_data"
    },
    {
     "data": {
      "text/html": [
       "'F1 score of test set is 0.413'"
      ],
      "text/latex": [
       "'F1 score of test set is 0.413'"
      ],
      "text/markdown": [
       "'F1 score of test set is 0.413'"
      ],
      "text/plain": [
       "[1] \"F1 score of test set is 0.413\""
      ]
     },
     "metadata": {},
     "output_type": "display_data"
    },
    {
     "data": {
      "text/html": [
       "<span style=white-space:pre-wrap>'T+ :  590'</span>"
      ],
      "text/latex": [
       "'T+ :  590'"
      ],
      "text/markdown": [
       "<span style=white-space:pre-wrap>'T+ :  590'</span>"
      ],
      "text/plain": [
       "[1] \"T+ :  590\""
      ]
     },
     "metadata": {},
     "output_type": "display_data"
    },
    {
     "data": {
      "text/html": [
       "<span style=white-space:pre-wrap>'T- :  6491'</span>"
      ],
      "text/latex": [
       "'T- :  6491'"
      ],
      "text/markdown": [
       "<span style=white-space:pre-wrap>'T- :  6491'</span>"
      ],
      "text/plain": [
       "[1] \"T- :  6491\""
      ]
     },
     "metadata": {},
     "output_type": "display_data"
    },
    {
     "data": {
      "text/html": [
       "<span style=white-space:pre-wrap>'F+ :  1102'</span>"
      ],
      "text/latex": [
       "'F+ :  1102'"
      ],
      "text/markdown": [
       "<span style=white-space:pre-wrap>'F+ :  1102'</span>"
      ],
      "text/plain": [
       "[1] \"F+ :  1102\""
      ]
     },
     "metadata": {},
     "output_type": "display_data"
    },
    {
     "data": {
      "text/html": [
       "<span style=white-space:pre-wrap>'F- :  577'</span>"
      ],
      "text/latex": [
       "'F- :  577'"
      ],
      "text/markdown": [
       "<span style=white-space:pre-wrap>'F- :  577'</span>"
      ],
      "text/plain": [
       "[1] \"F- :  577\""
      ]
     },
     "metadata": {},
     "output_type": "display_data"
    }
   ],
   "source": [
    "correct = nrow(heavyRain_prediction_table_2[heavyRain_prediction_table_2[,1] == heavyRain_prediction_table_2[,3],])\n",
    "wrong = nrow(heavyRain_prediction_table_2) - correct\n",
    "\n",
    "T_eval = heavyRain_prediction_table_2\n",
    "\n",
    "positive= nrow(T_eval[T_eval[,1]==1,]) #P\n",
    "negative= nrow(T_eval[T_eval[,1]==0,]) #N\n",
    "correct = nrow(T_eval[T_eval[,1]==T_eval[,3],])\n",
    "wrong = nrow(T_eval)-correct\n",
    "reject_wrong = nrow(T_eval[(T_eval[,1]==1 & T_eval[,3]==0),]) #FN\n",
    "accept_wrong = nrow(T_eval[(T_eval[,1]==0 & T_eval[,3]==1),]) #FP\n",
    "accept_correct= nrow(T_eval[(T_eval[,1]==1 & T_eval[,3]==1),]) #TP\n",
    "reject_correct= nrow(T_eval[(T_eval[,1]==0 & T_eval[,3]==0),]) #TN\n",
    "\n",
    "TPR = accept_correct / positive # recall / sensitivity\n",
    "TNR = reject_correct / negative # specifity\n",
    "PPV = accept_correct / (accept_correct + accept_wrong)# precision\n",
    "NPV = reject_correct / (reject_correct+ reject_wrong) # negative predictive value\n",
    "ACC = (accept_correct+reject_correct)/ (positive+negative) #accuracy\n",
    "F1 =(2* accept_correct)/ (2*accept_correct + accept_wrong + reject_wrong) #F1 score\n",
    "\n",
    "paste (\"Condition Positive of test set is\", round(positive, 3))\n",
    "paste (\"Condition Negative of test set is\",round(negative, 3))\n",
    "paste (\"Total correct prediction of test set is\",round(correct, 3))\n",
    "paste (\"Total worng prediction of test set is\",round(wrong, 3))\n",
    "paste (\"Recall or Sensitivity of test set is\",round(TPR, 3))\n",
    "paste (\"Specifity of test set is\",round(TNR, 3))\n",
    "paste (\"Precision of test set is\",round(PPV, 3))\n",
    "paste (\"Negative predictie value of test set is\",round(NPV, 3))\n",
    "paste (\"Accuracy of test set is\",round(ACC, 3))\n",
    "paste (\"F1 score of test set is\",round(F1, 3))\n",
    "\n",
    "paste(\"T+ : \", accept_correct)\n",
    "paste(\"T- : \", reject_correct)\n",
    "\n",
    "paste(\"F+ : \", accept_wrong)\n",
    "paste(\"F- : \", reject_wrong)"
   ]
  },
  {
   "cell_type": "code",
   "execution_count": null,
   "metadata": {
    "collapsed": true
   },
   "outputs": [],
   "source": [
    "plot(kl_w)"
   ]
  },
  {
   "cell_type": "code",
   "execution_count": null,
   "metadata": {
    "collapsed": true
   },
   "outputs": [],
   "source": [
    "plot(head(kl_w),100)"
   ]
  },
  {
   "cell_type": "code",
   "execution_count": null,
   "metadata": {
    "collapsed": true
   },
   "outputs": [],
   "source": []
  }
 ],
 "metadata": {
  "kernelspec": {
   "display_name": "R",
   "language": "R",
   "name": "ir"
  },
  "language_info": {
   "codemirror_mode": "r",
   "file_extension": ".r",
   "mimetype": "text/x-r-source",
   "name": "R",
   "pygments_lexer": "r",
   "version": "3.4.0"
  }
 },
 "nbformat": 4,
 "nbformat_minor": 2
}
