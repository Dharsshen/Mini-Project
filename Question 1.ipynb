{
 "cells": [
  {
   "cell_type": "markdown",
   "metadata": {},
   "source": [
    "# R Programming "
   ]
  },
  {
   "cell_type": "markdown",
   "metadata": {},
   "source": [
    "## 1.1 Summary Statistics "
   ]
  },
  {
   "cell_type": "code",
   "execution_count": null,
   "metadata": {
    "collapsed": true
   },
   "outputs": [],
   "source": [
    "#install.packages('rvest')\n",
    "#install.packages('xml2')\n",
    "#install.packages('XML')\n"
   ]
  },
  {
   "cell_type": "code",
   "execution_count": 4,
   "metadata": {
    "scrolled": false
   },
   "outputs": [
    {
     "name": "stderr",
     "output_type": "stream",
     "text": [
      "Loading required package: xml2\n",
      "\n",
      "Attaching package: ‘XML’\n",
      "\n",
      "The following object is masked from ‘package:rvest’:\n",
      "\n",
      "    xml\n",
      "\n"
     ]
    }
   ],
   "source": [
    "library(rvest)\n",
    "library(xml2)\n",
    "library(XML)"
   ]
  },
  {
   "cell_type": "code",
   "execution_count": 5,
   "metadata": {
    "collapsed": true
   },
   "outputs": [],
   "source": [
    "oil_exports<- read_html(\"https://en.wikipedia.org/wiki/List_of_countries_by_oil_exports\")\n",
    "oil_exports=oil_exports %>%\n",
    "html_table(fill = TRUE)"
   ]
  },
  {
   "cell_type": "code",
   "execution_count": 6,
   "metadata": {
    "collapsed": true
   },
   "outputs": [],
   "source": [
    "oil_exports2=data.frame(oil_exports[2])"
   ]
  },
  {
   "cell_type": "code",
   "execution_count": 7,
   "metadata": {
    "scrolled": true
   },
   "outputs": [
    {
     "data": {
      "text/html": [
       "<ol class=list-inline>\n",
       "\t<li>'Rank'</li>\n",
       "\t<li>'Country.Region'</li>\n",
       "\t<li>'Oil...exports..bbl.day.'</li>\n",
       "\t<li>'Date.of.information'</li>\n",
       "\t<li>'Oil...exports..bbl.day..1'</li>\n",
       "\t<li>'Date.of.information.1'</li>\n",
       "</ol>\n"
      ],
      "text/latex": [
       "\\begin{enumerate*}\n",
       "\\item 'Rank'\n",
       "\\item 'Country.Region'\n",
       "\\item 'Oil...exports..bbl.day.'\n",
       "\\item 'Date.of.information'\n",
       "\\item 'Oil...exports..bbl.day..1'\n",
       "\\item 'Date.of.information.1'\n",
       "\\end{enumerate*}\n"
      ],
      "text/markdown": [
       "1. 'Rank'\n",
       "2. 'Country.Region'\n",
       "3. 'Oil...exports..bbl.day.'\n",
       "4. 'Date.of.information'\n",
       "5. 'Oil...exports..bbl.day..1'\n",
       "6. 'Date.of.information.1'\n",
       "\n",
       "\n"
      ],
      "text/plain": [
       "[1] \"Rank\"                      \"Country.Region\"           \n",
       "[3] \"Oil...exports..bbl.day.\"   \"Date.of.information\"      \n",
       "[5] \"Oil...exports..bbl.day..1\" \"Date.of.information.1\"    "
      ]
     },
     "metadata": {},
     "output_type": "display_data"
    }
   ],
   "source": [
    "colnames(oil_exports2)"
   ]
  },
  {
   "cell_type": "code",
   "execution_count": 8,
   "metadata": {
    "scrolled": true
   },
   "outputs": [
    {
     "data": {
      "text/plain": [
       "      Rank       Country.Region     Oil...exports..bbl.day. Date.of.information\n",
       " Min.   : 1.00   Length:74          Length:74               Length:74          \n",
       " 1st Qu.:19.25   Class :character   Class :character        Class :character   \n",
       " Median :37.50   Mode  :character   Mode  :character        Mode  :character   \n",
       " Mean   :37.50                                                                 \n",
       " 3rd Qu.:55.75                                                                 \n",
       " Max.   :74.00                                                                 \n",
       "                                                                               \n",
       " Oil...exports..bbl.day..1 Date.of.information.1\n",
       " Length:74                 Min.   :2012         \n",
       " Class :character          1st Qu.:2012         \n",
       " Mode  :character          Median :2012         \n",
       "                           Mean   :2012         \n",
       "                           3rd Qu.:2012         \n",
       "                           Max.   :2016         \n",
       "                           NA's   :59           "
      ]
     },
     "metadata": {},
     "output_type": "display_data"
    }
   ],
   "source": [
    "summary(oil_exports2)"
   ]
  },
  {
   "cell_type": "code",
   "execution_count": 9,
   "metadata": {
    "collapsed": true
   },
   "outputs": [],
   "source": [
    "missValCount <- function(data){\n",
    "    \n",
    "    #Make structure of NA analysis data frame\n",
    "    na_analysis = data.frame()\n",
    "    \n",
    "    #Finding required statistics of numeric columns \n",
    "    for(col in names(data)){\n",
    "        num_miss = nrow(data[is.na(data[[col]]),])\n",
    "        tmp_df = data.frame(col_name = col, count = num_miss)\n",
    "        na_analysis = rbind(na_analysis, tmp_df)\n",
    "    }\n",
    "    print(na_analysis)\n",
    "}"
   ]
  },
  {
   "cell_type": "code",
   "execution_count": 10,
   "metadata": {},
   "outputs": [
    {
     "name": "stdout",
     "output_type": "stream",
     "text": [
      "                   col_name count\n",
      "1                      Rank     0\n",
      "2            Country.Region     0\n",
      "3   Oil...exports..bbl.day.     0\n",
      "4       Date.of.information     0\n",
      "5 Oil...exports..bbl.day..1    59\n",
      "6     Date.of.information.1    59\n"
     ]
    }
   ],
   "source": [
    "missValCount(oil_exports2)"
   ]
  },
  {
   "cell_type": "code",
   "execution_count": 11,
   "metadata": {
    "collapsed": true
   },
   "outputs": [],
   "source": [
    "colnames(oil_exports2)[colnames(oil_exports2)==\"Oil...exports..bbl.day.\"] <- \"oil_exports_c\""
   ]
  },
  {
   "cell_type": "code",
   "execution_count": 12,
   "metadata": {
    "collapsed": true
   },
   "outputs": [],
   "source": [
    "colnames(oil_exports2)[colnames(oil_exports2)==\"Oil...exports..bbl.day..1\"] <- \"oil_exports2_c\""
   ]
  },
  {
   "cell_type": "code",
   "execution_count": 13,
   "metadata": {
    "scrolled": true
   },
   "outputs": [
    {
     "data": {
      "text/html": [
       "<ol class=list-inline>\n",
       "\t<li>'Rank'</li>\n",
       "\t<li>'Country.Region'</li>\n",
       "\t<li>'oil_exports_c'</li>\n",
       "\t<li>'Date.of.information'</li>\n",
       "\t<li>'oil_exports2_c'</li>\n",
       "\t<li>'Date.of.information.1'</li>\n",
       "</ol>\n"
      ],
      "text/latex": [
       "\\begin{enumerate*}\n",
       "\\item 'Rank'\n",
       "\\item 'Country.Region'\n",
       "\\item 'oil\\_exports\\_c'\n",
       "\\item 'Date.of.information'\n",
       "\\item 'oil\\_exports2\\_c'\n",
       "\\item 'Date.of.information.1'\n",
       "\\end{enumerate*}\n"
      ],
      "text/markdown": [
       "1. 'Rank'\n",
       "2. 'Country.Region'\n",
       "3. 'oil_exports_c'\n",
       "4. 'Date.of.information'\n",
       "5. 'oil_exports2_c'\n",
       "6. 'Date.of.information.1'\n",
       "\n",
       "\n"
      ],
      "text/plain": [
       "[1] \"Rank\"                  \"Country.Region\"        \"oil_exports_c\"        \n",
       "[4] \"Date.of.information\"   \"oil_exports2_c\"        \"Date.of.information.1\""
      ]
     },
     "metadata": {},
     "output_type": "display_data"
    }
   ],
   "source": [
    "colnames(oil_exports2)"
   ]
  },
  {
   "cell_type": "code",
   "execution_count": 14,
   "metadata": {
    "collapsed": true
   },
   "outputs": [],
   "source": [
    "oil_exports3=oil_exports2"
   ]
  },
  {
   "cell_type": "code",
   "execution_count": 15,
   "metadata": {},
   "outputs": [
    {
     "data": {
      "text/html": [
       "'character'"
      ],
      "text/latex": [
       "'character'"
      ],
      "text/markdown": [
       "'character'"
      ],
      "text/plain": [
       "[1] \"character\""
      ]
     },
     "metadata": {},
     "output_type": "display_data"
    }
   ],
   "source": [
    "class(oil_exports2$oil_exports_c)"
   ]
  },
  {
   "cell_type": "code",
   "execution_count": 16,
   "metadata": {},
   "outputs": [
    {
     "name": "stderr",
     "output_type": "stream",
     "text": [
      "Warning message in eval(expr, envir, enclos):\n",
      "“NAs introduced by coercion”"
     ]
    }
   ],
   "source": [
    "oil_exports2$oil_exports_c=as.numeric(as.character(oil_exports2$oil_exports_c))"
   ]
  },
  {
   "cell_type": "code",
   "execution_count": 17,
   "metadata": {},
   "outputs": [
    {
     "data": {
      "text/html": [
       "'numeric'"
      ],
      "text/latex": [
       "'numeric'"
      ],
      "text/markdown": [
       "'numeric'"
      ],
      "text/plain": [
       "[1] \"numeric\""
      ]
     },
     "metadata": {},
     "output_type": "display_data"
    }
   ],
   "source": [
    "class(oil_exports2$oil_exports_c)"
   ]
  },
  {
   "cell_type": "code",
   "execution_count": 19,
   "metadata": {},
   "outputs": [
    {
     "data": {
      "image/png": "[encoded data removed]",
      "text/plain": [
       "plot without title"
      ]
     },
     "metadata": {},
     "output_type": "display_data"
    }
   ],
   "source": [
    "boxplot(oil_exports2$oil_exports_c)"
   ]
  },
  {
   "cell_type": "code",
   "execution_count": 20,
   "metadata": {},
   "outputs": [
    {
     "data": {
      "text/plain": [
       "      Rank       Country.Region     oil_exports_c   Date.of.information\n",
       " Min.   : 1.00   Length:74          Min.   : 61.0   Length:74          \n",
       " 1st Qu.:19.25   Class :character   1st Qu.:263.0   Class :character   \n",
       " Median :37.50   Mode  :character   Median :404.0   Mode  :character   \n",
       " Mean   :37.50                      Mean   :404.8                      \n",
       " 3rd Qu.:55.75                      3rd Qu.:531.0                      \n",
       " Max.   :74.00                      Max.   :765.0                      \n",
       "                                    NA's   :69                         \n",
       " oil_exports2_c     Date.of.information.1\n",
       " Length:74          Min.   :2012         \n",
       " Class :character   1st Qu.:2012         \n",
       " Mode  :character   Median :2012         \n",
       "                    Mean   :2012         \n",
       "                    3rd Qu.:2012         \n",
       "                    Max.   :2016         \n",
       "                    NA's   :59           "
      ]
     },
     "metadata": {},
     "output_type": "display_data"
    }
   ],
   "source": [
    "summary(oil_exports2)"
   ]
  },
  {
   "cell_type": "code",
   "execution_count": 21,
   "metadata": {},
   "outputs": [
    {
     "data": {
      "text/html": [
       "<table>\n",
       "<thead><tr><th></th><th scope=col>Rank</th><th scope=col>Country.Region</th><th scope=col>oil_exports_c</th><th scope=col>Date.of.information</th><th scope=col>oil_exports2_c</th><th scope=col>Date.of.information.1</th></tr></thead>\n",
       "<tbody>\n",
       "\t<tr><th scope=row>28</th><td>28       </td><td>Malaysia </td><td>269,000  </td><td>2012 est.</td><td>NA       </td><td>NA       </td></tr>\n",
       "</tbody>\n",
       "</table>\n"
      ],
      "text/latex": [
       "\\begin{tabular}{r|llllll}\n",
       "  & Rank & Country.Region & oil\\_exports\\_c & Date.of.information & oil\\_exports2\\_c & Date.of.information.1\\\\\n",
       "\\hline\n",
       "\t28 & 28        & Malaysia  & 269,000   & 2012 est. & NA        & NA       \\\\\n",
       "\\end{tabular}\n"
      ],
      "text/markdown": [
       "\n",
       "| <!--/--> | Rank | Country.Region | oil_exports_c | Date.of.information | oil_exports2_c | Date.of.information.1 | \n",
       "|---|\n",
       "| 28 | 28        | Malaysia  | 269,000   | 2012 est. | NA        | NA        | \n",
       "\n",
       "\n"
      ],
      "text/plain": [
       "   Rank Country.Region oil_exports_c Date.of.information oil_exports2_c\n",
       "28 28   Malaysia       269,000       2012 est.           NA            \n",
       "   Date.of.information.1\n",
       "28 NA                   "
      ]
     },
     "metadata": {},
     "output_type": "display_data"
    }
   ],
   "source": [
    "oil_exports3[oil_exports2$Country.Region==\"Malaysia\",]"
   ]
  },
  {
   "cell_type": "markdown",
   "metadata": {},
   "source": [
    "<font size=\"+2\" style=\"color:Blue\">Malaysia exports 269000 bbl/day therefore Malaysia is in the 1st quartile </font>"
   ]
  },
  {
   "cell_type": "code",
   "execution_count": null,
   "metadata": {
    "collapsed": true
   },
   "outputs": [],
   "source": []
  }
 ],
 "metadata": {
  "kernelspec": {
   "display_name": "R",
   "language": "R",
   "name": "ir"
  },
  "language_info": {
   "codemirror_mode": "r",
   "file_extension": ".r",
   "mimetype": "text/x-r-source",
   "name": "R",
   "pygments_lexer": "r",
   "version": "3.4.0"
  }
 },
 "nbformat": 4,
 "nbformat_minor": 2
}
